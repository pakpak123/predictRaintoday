{
  "nbformat": 4,
  "nbformat_minor": 0,
  "metadata": {
    "colab": {
      "name": "weather.ipynb",
      "provenance": [],
      "collapsed_sections": [],
      "include_colab_link": true
    },
    "kernelspec": {
      "name": "python3",
      "display_name": "Python 3"
    },
    "language_info": {
      "name": "python"
    }
  },
  "cells": [
    {
      "cell_type": "markdown",
      "metadata": {
        "id": "view-in-github",
        "colab_type": "text"
      },
      "source": [
        "<a href=\"https://colab.research.google.com/github/pakpak123/predictRaintoday/blob/main/weather.ipynb\" target=\"_parent\"><img src=\"https://colab.research.google.com/assets/colab-badge.svg\" alt=\"Open In Colab\"/></a>"
      ]
    },
    {
      "cell_type": "markdown",
      "metadata": {
        "id": "U0zD5vkOnI9V"
      },
      "source": [
        "สมาชิกกลุ่ม\n",
        "*   63010524 นางสาวนิชาภา พักเง้า\n",
        "*   63050100 นางสาวกิตติยา นิติธรธรรมกุล\n"
      ]
    },
    {
      "cell_type": "markdown",
      "metadata": {
        "id": "a2uj1fUqdON9"
      },
      "source": [
        "# Australia Weather\n",
        "\n",
        "## Data Description\n",
        "| Variable | Definition |\n",
        "| -------- | ---------- |\n",
        "| Date | The date of observation |\n",
        "| Location | The common name of the location of the weather station |\n",
        "| MinTemp | The minimum temperature in degrees celsius |\n",
        "| MaxTemp | The maximum temperature in degrees celsius |\n",
        "| Sunshine | The number of hours of bright sunshine in the day |\n",
        "| WindDir9am | Direction of the wind at 9am |\n",
        "| WindSpeed9am | Wind speed (km/hr) averaged over 10 minutes prior to 9am |\n",
        "| Humidity9am | Humidity (percent) at 9am |\n",
        "| Pressure9am | Atmospheric pressure (hpa) reduced to mean sea level at 9am |\n",
        "| Cloud9am | Fraction of sky obscured by cloud at 9am. This is measured in \"oktas\", which are a unit of eigths. It records how many |\n",
        "| Temp9am | Temperature (degrees C) at 9am |\n",
        "\n",
        "### Target Variable\n",
        "- RainToday (Yes, No)\n",
        "\n",
        "## Objective\n",
        "- Clean ค่า null ถ้า column ไหนมี null มากกว่า 40% ให้แทนค่า null ด้วยค่า mean ของ column นั้นๆ\n",
        "- สร้าง classification model เพื่อทำนาย RainToday"
      ]
    },
    {
      "cell_type": "code",
      "metadata": {
        "id": "JOmEb_eqdNQL"
      },
      "source": [
        "import numpy as np\n",
        "import pandas as pd\n",
        "import seaborn as sns\n",
        "import matplotlib.pyplot as plt\n",
        "\n",
        "from sklearn import svm\n",
        "from sklearn import tree\n",
        "from sklearn.metrics import plot_roc_curve\n",
        "from sklearn.ensemble import ExtraTreesRegressor\n",
        "from sklearn.preprocessing import StandardScaler\n",
        "from sklearn.tree import DecisionTreeClassifier\n",
        "from sklearn.neighbors import KNeighborsClassifier\n",
        "from sklearn.linear_model import LogisticRegression\n",
        "from sklearn.ensemble import RandomForestClassifier\n",
        "from sklearn.model_selection import KFold, train_test_split\n",
        "from sklearn.metrics import accuracy_score, plot_confusion_matrix\n",
        "from sklearn.model_selection import cross_val_score, cross_val_predict\n"
      ],
      "execution_count": null,
      "outputs": []
    },
    {
      "cell_type": "markdown",
      "metadata": {
        "id": "PkFueOD4R4tL"
      },
      "source": [
        "**นำเข้าไฟล์ weather_data_prepared.csv**"
      ]
    },
    {
      "cell_type": "code",
      "metadata": {
        "id": "bN__G8VvPJaw"
      },
      "source": [
        "admission_df = pd.read_csv(\"weather_data_prepared.csv\")"
      ],
      "execution_count": null,
      "outputs": []
    },
    {
      "cell_type": "markdown",
      "metadata": {
        "id": "z1aip6vuHqM_"
      },
      "source": [
        "# Read data\n",
        "\n",
        "โดยใช้  head()   describe()  และ  info()  เพื่อการดูข้อมูลเบื้องต้น"
      ]
    },
    {
      "cell_type": "code",
      "metadata": {
        "id": "XQmHRBcrH786",
        "colab": {
          "base_uri": "https://localhost:8080/",
          "height": 204
        },
        "outputId": "02ade252-3640-4967-85cd-b79da43ad8ee"
      },
      "source": [
        "admission_df.head()"
      ],
      "execution_count": null,
      "outputs": [
        {
          "output_type": "execute_result",
          "data": {
            "text/html": [
              "<div>\n",
              "<style scoped>\n",
              "    .dataframe tbody tr th:only-of-type {\n",
              "        vertical-align: middle;\n",
              "    }\n",
              "\n",
              "    .dataframe tbody tr th {\n",
              "        vertical-align: top;\n",
              "    }\n",
              "\n",
              "    .dataframe thead th {\n",
              "        text-align: right;\n",
              "    }\n",
              "</style>\n",
              "<table border=\"1\" class=\"dataframe\">\n",
              "  <thead>\n",
              "    <tr style=\"text-align: right;\">\n",
              "      <th></th>\n",
              "      <th>Date</th>\n",
              "      <th>Location</th>\n",
              "      <th>MinTemp</th>\n",
              "      <th>MaxTemp</th>\n",
              "      <th>Sunshine</th>\n",
              "      <th>WindDir9am</th>\n",
              "      <th>WindSpeed9am</th>\n",
              "      <th>Humidity9am</th>\n",
              "      <th>Pressure9am</th>\n",
              "      <th>Cloud9am</th>\n",
              "      <th>Temp9am</th>\n",
              "      <th>RainToday</th>\n",
              "    </tr>\n",
              "  </thead>\n",
              "  <tbody>\n",
              "    <tr>\n",
              "      <th>0</th>\n",
              "      <td>2008-12-01</td>\n",
              "      <td>Albury</td>\n",
              "      <td>13.4</td>\n",
              "      <td>22.9</td>\n",
              "      <td>NaN</td>\n",
              "      <td>W</td>\n",
              "      <td>20.0</td>\n",
              "      <td>71.0</td>\n",
              "      <td>1007.7</td>\n",
              "      <td>8.0</td>\n",
              "      <td>16.9</td>\n",
              "      <td>No</td>\n",
              "    </tr>\n",
              "    <tr>\n",
              "      <th>1</th>\n",
              "      <td>2008-12-02</td>\n",
              "      <td>Albury</td>\n",
              "      <td>7.4</td>\n",
              "      <td>25.1</td>\n",
              "      <td>NaN</td>\n",
              "      <td>NNW</td>\n",
              "      <td>4.0</td>\n",
              "      <td>44.0</td>\n",
              "      <td>1010.6</td>\n",
              "      <td>NaN</td>\n",
              "      <td>17.2</td>\n",
              "      <td>No</td>\n",
              "    </tr>\n",
              "    <tr>\n",
              "      <th>2</th>\n",
              "      <td>2008-12-03</td>\n",
              "      <td>Albury</td>\n",
              "      <td>12.9</td>\n",
              "      <td>25.7</td>\n",
              "      <td>NaN</td>\n",
              "      <td>W</td>\n",
              "      <td>19.0</td>\n",
              "      <td>38.0</td>\n",
              "      <td>1007.6</td>\n",
              "      <td>NaN</td>\n",
              "      <td>21.0</td>\n",
              "      <td>No</td>\n",
              "    </tr>\n",
              "    <tr>\n",
              "      <th>3</th>\n",
              "      <td>2008-12-04</td>\n",
              "      <td>Albury</td>\n",
              "      <td>9.2</td>\n",
              "      <td>28.0</td>\n",
              "      <td>NaN</td>\n",
              "      <td>SE</td>\n",
              "      <td>11.0</td>\n",
              "      <td>45.0</td>\n",
              "      <td>1017.6</td>\n",
              "      <td>NaN</td>\n",
              "      <td>18.1</td>\n",
              "      <td>No</td>\n",
              "    </tr>\n",
              "    <tr>\n",
              "      <th>4</th>\n",
              "      <td>2008-12-05</td>\n",
              "      <td>Albury</td>\n",
              "      <td>17.5</td>\n",
              "      <td>32.3</td>\n",
              "      <td>NaN</td>\n",
              "      <td>ENE</td>\n",
              "      <td>7.0</td>\n",
              "      <td>82.0</td>\n",
              "      <td>1010.8</td>\n",
              "      <td>7.0</td>\n",
              "      <td>17.8</td>\n",
              "      <td>No</td>\n",
              "    </tr>\n",
              "  </tbody>\n",
              "</table>\n",
              "</div>"
            ],
            "text/plain": [
              "         Date Location  MinTemp  ...  Cloud9am  Temp9am RainToday\n",
              "0  2008-12-01   Albury     13.4  ...       8.0     16.9        No\n",
              "1  2008-12-02   Albury      7.4  ...       NaN     17.2        No\n",
              "2  2008-12-03   Albury     12.9  ...       NaN     21.0        No\n",
              "3  2008-12-04   Albury      9.2  ...       NaN     18.1        No\n",
              "4  2008-12-05   Albury     17.5  ...       7.0     17.8        No\n",
              "\n",
              "[5 rows x 12 columns]"
            ]
          },
          "metadata": {},
          "execution_count": 91
        }
      ]
    },
    {
      "cell_type": "code",
      "metadata": {
        "colab": {
          "base_uri": "https://localhost:8080/",
          "height": 297
        },
        "id": "RnrE4OiSIXe7",
        "outputId": "f6e1d591-1610-4f46-ea8d-213603d8573b"
      },
      "source": [
        "admission_df.describe()"
      ],
      "execution_count": null,
      "outputs": [
        {
          "output_type": "execute_result",
          "data": {
            "text/html": [
              "<div>\n",
              "<style scoped>\n",
              "    .dataframe tbody tr th:only-of-type {\n",
              "        vertical-align: middle;\n",
              "    }\n",
              "\n",
              "    .dataframe tbody tr th {\n",
              "        vertical-align: top;\n",
              "    }\n",
              "\n",
              "    .dataframe thead th {\n",
              "        text-align: right;\n",
              "    }\n",
              "</style>\n",
              "<table border=\"1\" class=\"dataframe\">\n",
              "  <thead>\n",
              "    <tr style=\"text-align: right;\">\n",
              "      <th></th>\n",
              "      <th>MinTemp</th>\n",
              "      <th>MaxTemp</th>\n",
              "      <th>Sunshine</th>\n",
              "      <th>WindSpeed9am</th>\n",
              "      <th>Humidity9am</th>\n",
              "      <th>Pressure9am</th>\n",
              "      <th>Cloud9am</th>\n",
              "      <th>Temp9am</th>\n",
              "    </tr>\n",
              "  </thead>\n",
              "  <tbody>\n",
              "    <tr>\n",
              "      <th>count</th>\n",
              "      <td>143975.000000</td>\n",
              "      <td>144199.000000</td>\n",
              "      <td>75625.000000</td>\n",
              "      <td>143693.000000</td>\n",
              "      <td>142806.000000</td>\n",
              "      <td>130395.00000</td>\n",
              "      <td>89572.000000</td>\n",
              "      <td>143693.000000</td>\n",
              "    </tr>\n",
              "    <tr>\n",
              "      <th>mean</th>\n",
              "      <td>12.194034</td>\n",
              "      <td>23.221348</td>\n",
              "      <td>7.611178</td>\n",
              "      <td>14.043426</td>\n",
              "      <td>68.880831</td>\n",
              "      <td>1017.64994</td>\n",
              "      <td>4.447461</td>\n",
              "      <td>16.990631</td>\n",
              "    </tr>\n",
              "    <tr>\n",
              "      <th>std</th>\n",
              "      <td>6.398495</td>\n",
              "      <td>7.119049</td>\n",
              "      <td>3.785483</td>\n",
              "      <td>8.915375</td>\n",
              "      <td>19.029164</td>\n",
              "      <td>7.10653</td>\n",
              "      <td>2.887159</td>\n",
              "      <td>6.488753</td>\n",
              "    </tr>\n",
              "    <tr>\n",
              "      <th>min</th>\n",
              "      <td>-8.500000</td>\n",
              "      <td>-4.800000</td>\n",
              "      <td>0.000000</td>\n",
              "      <td>0.000000</td>\n",
              "      <td>0.000000</td>\n",
              "      <td>980.50000</td>\n",
              "      <td>0.000000</td>\n",
              "      <td>-7.200000</td>\n",
              "    </tr>\n",
              "    <tr>\n",
              "      <th>25%</th>\n",
              "      <td>7.600000</td>\n",
              "      <td>17.900000</td>\n",
              "      <td>4.800000</td>\n",
              "      <td>7.000000</td>\n",
              "      <td>57.000000</td>\n",
              "      <td>1012.90000</td>\n",
              "      <td>1.000000</td>\n",
              "      <td>12.300000</td>\n",
              "    </tr>\n",
              "    <tr>\n",
              "      <th>50%</th>\n",
              "      <td>12.000000</td>\n",
              "      <td>22.600000</td>\n",
              "      <td>8.400000</td>\n",
              "      <td>13.000000</td>\n",
              "      <td>70.000000</td>\n",
              "      <td>1017.60000</td>\n",
              "      <td>5.000000</td>\n",
              "      <td>16.700000</td>\n",
              "    </tr>\n",
              "    <tr>\n",
              "      <th>75%</th>\n",
              "      <td>16.900000</td>\n",
              "      <td>28.200000</td>\n",
              "      <td>10.600000</td>\n",
              "      <td>19.000000</td>\n",
              "      <td>83.000000</td>\n",
              "      <td>1022.40000</td>\n",
              "      <td>7.000000</td>\n",
              "      <td>21.600000</td>\n",
              "    </tr>\n",
              "    <tr>\n",
              "      <th>max</th>\n",
              "      <td>33.900000</td>\n",
              "      <td>48.100000</td>\n",
              "      <td>14.500000</td>\n",
              "      <td>130.000000</td>\n",
              "      <td>100.000000</td>\n",
              "      <td>1041.00000</td>\n",
              "      <td>9.000000</td>\n",
              "      <td>40.200000</td>\n",
              "    </tr>\n",
              "  </tbody>\n",
              "</table>\n",
              "</div>"
            ],
            "text/plain": [
              "             MinTemp        MaxTemp  ...      Cloud9am        Temp9am\n",
              "count  143975.000000  144199.000000  ...  89572.000000  143693.000000\n",
              "mean       12.194034      23.221348  ...      4.447461      16.990631\n",
              "std         6.398495       7.119049  ...      2.887159       6.488753\n",
              "min        -8.500000      -4.800000  ...      0.000000      -7.200000\n",
              "25%         7.600000      17.900000  ...      1.000000      12.300000\n",
              "50%        12.000000      22.600000  ...      5.000000      16.700000\n",
              "75%        16.900000      28.200000  ...      7.000000      21.600000\n",
              "max        33.900000      48.100000  ...      9.000000      40.200000\n",
              "\n",
              "[8 rows x 8 columns]"
            ]
          },
          "metadata": {},
          "execution_count": 92
        }
      ]
    },
    {
      "cell_type": "code",
      "metadata": {
        "colab": {
          "base_uri": "https://localhost:8080/"
        },
        "id": "AZ2ZrzPMTRYT",
        "outputId": "67320ae3-264d-448f-9ece-a29b2a8c2a70"
      },
      "source": [
        "admission_df.info()"
      ],
      "execution_count": null,
      "outputs": [
        {
          "output_type": "stream",
          "name": "stdout",
          "text": [
            "<class 'pandas.core.frame.DataFrame'>\n",
            "RangeIndex: 145460 entries, 0 to 145459\n",
            "Data columns (total 12 columns):\n",
            " #   Column        Non-Null Count   Dtype  \n",
            "---  ------        --------------   -----  \n",
            " 0   Date          145460 non-null  object \n",
            " 1   Location      145460 non-null  object \n",
            " 2   MinTemp       143975 non-null  float64\n",
            " 3   MaxTemp       144199 non-null  float64\n",
            " 4   Sunshine      75625 non-null   float64\n",
            " 5   WindDir9am    134894 non-null  object \n",
            " 6   WindSpeed9am  143693 non-null  float64\n",
            " 7   Humidity9am   142806 non-null  float64\n",
            " 8   Pressure9am   130395 non-null  float64\n",
            " 9   Cloud9am      89572 non-null   float64\n",
            " 10  Temp9am       143693 non-null  float64\n",
            " 11  RainToday     142199 non-null  object \n",
            "dtypes: float64(8), object(4)\n",
            "memory usage: 13.3+ MB\n"
          ]
        }
      ]
    },
    {
      "cell_type": "markdown",
      "metadata": {
        "id": "4iXqmRjl1oZj"
      },
      "source": [
        "**ตรวจสอบข้อมูลที่เป็นค่าว่าง**  (NaN )"
      ]
    },
    {
      "cell_type": "code",
      "metadata": {
        "colab": {
          "base_uri": "https://localhost:8080/"
        },
        "id": "-9tJ5q7rQyJn",
        "outputId": "83a75f82-447b-491a-ba20-192cacb0dd17"
      },
      "source": [
        "admission_df.isna().sum()"
      ],
      "execution_count": null,
      "outputs": [
        {
          "output_type": "execute_result",
          "data": {
            "text/plain": [
              "Date                0\n",
              "Location            0\n",
              "MinTemp          1485\n",
              "MaxTemp          1261\n",
              "Sunshine        69835\n",
              "WindDir9am      10566\n",
              "WindSpeed9am     1767\n",
              "Humidity9am      2654\n",
              "Pressure9am     15065\n",
              "Cloud9am        55888\n",
              "Temp9am          1767\n",
              "RainToday        3261\n",
              "dtype: int64"
            ]
          },
          "metadata": {},
          "execution_count": 95
        }
      ]
    },
    {
      "cell_type": "markdown",
      "metadata": {
        "id": "XbLz_2QWSIBG"
      },
      "source": [
        "**ใช้ .shape เพื่อดูขนาดของข้อมูล**"
      ]
    },
    {
      "cell_type": "code",
      "metadata": {
        "colab": {
          "base_uri": "https://localhost:8080/"
        },
        "id": "KnOQse2xSS9W",
        "outputId": "f118ac50-1381-4cd2-bef9-02402abd4ae8"
      },
      "source": [
        "admission_df.shape"
      ],
      "execution_count": null,
      "outputs": [
        {
          "output_type": "execute_result",
          "data": {
            "text/plain": [
              "(145460, 12)"
            ]
          },
          "metadata": {},
          "execution_count": 94
        }
      ]
    },
    {
      "cell_type": "markdown",
      "metadata": {
        "id": "oJ5fri9Y0lEr"
      },
      "source": [
        "# **ตรวจสอบข้อมูลที่เป็น categorical feature** \n",
        "หรือข้อมูลที่ไม่ได้จัดเก็บเป็นตัวเลข"
      ]
    },
    {
      "cell_type": "code",
      "metadata": {
        "id": "_FlnVvAJ0rmg",
        "colab": {
          "base_uri": "https://localhost:8080/"
        },
        "outputId": "ee74da45-4347-4b83-8016-42b14e2e697b"
      },
      "source": [
        "#เก็บค่า columns ที่เป็น categorical feature ไว้ในตัวแปร categorical_feature\n",
        "categorical_features = [column_name for column_name in admission_df if admission_df[column_name].dtype == 'O']\n",
        "print(\"Name of Categorical Features : \",categorical_features)"
      ],
      "execution_count": null,
      "outputs": [
        {
          "output_type": "stream",
          "name": "stdout",
          "text": [
            "Name of Categorical Features :  ['Date', 'Location', 'WindDir9am', 'RainToday']\n"
          ]
        }
      ]
    },
    {
      "cell_type": "code",
      "metadata": {
        "id": "ICMx4qfJ0sTF",
        "colab": {
          "base_uri": "https://localhost:8080/"
        },
        "outputId": "88e3f029-5eee-4c09-b712-66756a37adb7"
      },
      "source": [
        "#Check number of unique  of each categorical features\n",
        "for each_uni in categorical_features :\n",
        "    print('Number of unique values of {} are : {}'.format(each_uni, len(admission_df[each_uni].unique())))"
      ],
      "execution_count": null,
      "outputs": [
        {
          "output_type": "stream",
          "name": "stdout",
          "text": [
            "Number of unique values of Date are : 3436\n",
            "Number of unique values of Location are : 49\n",
            "Number of unique values of WindDir9am are : 17\n",
            "Number of unique values of RainToday are : 3\n"
          ]
        }
      ]
    },
    {
      "cell_type": "markdown",
      "metadata": {
        "id": "jUafI7fb05S8"
      },
      "source": [
        "จะเห็นว่า column Date มีค่า unique ที่ค่อนข้างสูง ซึ่งจะส่งผลกระทบต่อประสิทธิภาพของตัว model ดังนั้นจึงจำเป็นจะต้องลดค่า unique ให้น้อยลง โดยการเปลี่ยนประเภทของข้อมูล"
      ]
    },
    {
      "cell_type": "code",
      "metadata": {
        "id": "u0DWoKBk2D04",
        "colab": {
          "base_uri": "https://localhost:8080/"
        },
        "outputId": "fe5fdfec-29b8-4aea-c02c-0fe7a6706cc4"
      },
      "source": [
        "#Change data type of Date to datetime type\n",
        "admission_df['Date'] = pd.to_datetime(admission_df['Date'])\n",
        "admission_df['Date'].dtype"
      ],
      "execution_count": null,
      "outputs": [
        {
          "output_type": "execute_result",
          "data": {
            "text/plain": [
              "dtype('<M8[ns]')"
            ]
          },
          "metadata": {},
          "execution_count": 98
        }
      ]
    },
    {
      "cell_type": "code",
      "metadata": {
        "id": "wDQtNBs_2KBq"
      },
      "source": [
        "#Split Date to day , month , and year\n",
        "admission_df['year'] = admission_df['Date'].dt.year\n",
        "admission_df['month'] = admission_df['Date'].dt.month\n",
        "admission_df['day'] = admission_df['Date'].dt.day"
      ],
      "execution_count": null,
      "outputs": []
    },
    {
      "cell_type": "code",
      "metadata": {
        "id": "-iswdn_r2Mmm"
      },
      "source": [
        "#Drop unuse column (Date)\n",
        "admission_df.drop('Date', axis=1 , inplace=True)"
      ],
      "execution_count": null,
      "outputs": []
    },
    {
      "cell_type": "code",
      "metadata": {
        "id": "bkgpj1ZZ2kPs",
        "colab": {
          "base_uri": "https://localhost:8080/",
          "height": 204
        },
        "outputId": "5776748b-3071-434d-d9c8-a8f318c63cb7"
      },
      "source": [
        "admission_df.head()"
      ],
      "execution_count": null,
      "outputs": [
        {
          "output_type": "execute_result",
          "data": {
            "text/html": [
              "<div>\n",
              "<style scoped>\n",
              "    .dataframe tbody tr th:only-of-type {\n",
              "        vertical-align: middle;\n",
              "    }\n",
              "\n",
              "    .dataframe tbody tr th {\n",
              "        vertical-align: top;\n",
              "    }\n",
              "\n",
              "    .dataframe thead th {\n",
              "        text-align: right;\n",
              "    }\n",
              "</style>\n",
              "<table border=\"1\" class=\"dataframe\">\n",
              "  <thead>\n",
              "    <tr style=\"text-align: right;\">\n",
              "      <th></th>\n",
              "      <th>Location</th>\n",
              "      <th>MinTemp</th>\n",
              "      <th>MaxTemp</th>\n",
              "      <th>Sunshine</th>\n",
              "      <th>WindDir9am</th>\n",
              "      <th>WindSpeed9am</th>\n",
              "      <th>Humidity9am</th>\n",
              "      <th>Pressure9am</th>\n",
              "      <th>Cloud9am</th>\n",
              "      <th>Temp9am</th>\n",
              "      <th>RainToday</th>\n",
              "      <th>year</th>\n",
              "      <th>month</th>\n",
              "      <th>day</th>\n",
              "    </tr>\n",
              "  </thead>\n",
              "  <tbody>\n",
              "    <tr>\n",
              "      <th>0</th>\n",
              "      <td>Albury</td>\n",
              "      <td>13.4</td>\n",
              "      <td>22.9</td>\n",
              "      <td>NaN</td>\n",
              "      <td>W</td>\n",
              "      <td>20.0</td>\n",
              "      <td>71.0</td>\n",
              "      <td>1007.7</td>\n",
              "      <td>8.0</td>\n",
              "      <td>16.9</td>\n",
              "      <td>No</td>\n",
              "      <td>2008</td>\n",
              "      <td>12</td>\n",
              "      <td>1</td>\n",
              "    </tr>\n",
              "    <tr>\n",
              "      <th>1</th>\n",
              "      <td>Albury</td>\n",
              "      <td>7.4</td>\n",
              "      <td>25.1</td>\n",
              "      <td>NaN</td>\n",
              "      <td>NNW</td>\n",
              "      <td>4.0</td>\n",
              "      <td>44.0</td>\n",
              "      <td>1010.6</td>\n",
              "      <td>NaN</td>\n",
              "      <td>17.2</td>\n",
              "      <td>No</td>\n",
              "      <td>2008</td>\n",
              "      <td>12</td>\n",
              "      <td>2</td>\n",
              "    </tr>\n",
              "    <tr>\n",
              "      <th>2</th>\n",
              "      <td>Albury</td>\n",
              "      <td>12.9</td>\n",
              "      <td>25.7</td>\n",
              "      <td>NaN</td>\n",
              "      <td>W</td>\n",
              "      <td>19.0</td>\n",
              "      <td>38.0</td>\n",
              "      <td>1007.6</td>\n",
              "      <td>NaN</td>\n",
              "      <td>21.0</td>\n",
              "      <td>No</td>\n",
              "      <td>2008</td>\n",
              "      <td>12</td>\n",
              "      <td>3</td>\n",
              "    </tr>\n",
              "    <tr>\n",
              "      <th>3</th>\n",
              "      <td>Albury</td>\n",
              "      <td>9.2</td>\n",
              "      <td>28.0</td>\n",
              "      <td>NaN</td>\n",
              "      <td>SE</td>\n",
              "      <td>11.0</td>\n",
              "      <td>45.0</td>\n",
              "      <td>1017.6</td>\n",
              "      <td>NaN</td>\n",
              "      <td>18.1</td>\n",
              "      <td>No</td>\n",
              "      <td>2008</td>\n",
              "      <td>12</td>\n",
              "      <td>4</td>\n",
              "    </tr>\n",
              "    <tr>\n",
              "      <th>4</th>\n",
              "      <td>Albury</td>\n",
              "      <td>17.5</td>\n",
              "      <td>32.3</td>\n",
              "      <td>NaN</td>\n",
              "      <td>ENE</td>\n",
              "      <td>7.0</td>\n",
              "      <td>82.0</td>\n",
              "      <td>1010.8</td>\n",
              "      <td>7.0</td>\n",
              "      <td>17.8</td>\n",
              "      <td>No</td>\n",
              "      <td>2008</td>\n",
              "      <td>12</td>\n",
              "      <td>5</td>\n",
              "    </tr>\n",
              "  </tbody>\n",
              "</table>\n",
              "</div>"
            ],
            "text/plain": [
              "  Location  MinTemp  MaxTemp  Sunshine  ... RainToday  year  month  day\n",
              "0   Albury     13.4     22.9       NaN  ...        No  2008     12    1\n",
              "1   Albury      7.4     25.1       NaN  ...        No  2008     12    2\n",
              "2   Albury     12.9     25.7       NaN  ...        No  2008     12    3\n",
              "3   Albury      9.2     28.0       NaN  ...        No  2008     12    4\n",
              "4   Albury     17.5     32.3       NaN  ...        No  2008     12    5\n",
              "\n",
              "[5 rows x 14 columns]"
            ]
          },
          "metadata": {},
          "execution_count": 101
        }
      ]
    },
    {
      "cell_type": "markdown",
      "metadata": {
        "id": "y0rAx2uX25ie"
      },
      "source": [
        "เมื่อเราได้ทำการ convert data type ของ column Date เรียบร้อยแล้ว ต่อมาเราจะอัพเดทข้อมูลที่เป็น categorical features ใหม่อีกครั้ง"
      ]
    },
    {
      "cell_type": "code",
      "metadata": {
        "id": "_lEfMtZl272g",
        "colab": {
          "base_uri": "https://localhost:8080/"
        },
        "outputId": "d22f0482-61b7-4f29-cbea-d88e4f21e3c0"
      },
      "source": [
        "categorical_features = [column_name for column_name in admission_df if admission_df[column_name].dtype == 'O']\n",
        "print(\"Name of Categorical Features : \",categorical_features)"
      ],
      "execution_count": null,
      "outputs": [
        {
          "output_type": "stream",
          "name": "stdout",
          "text": [
            "Name of Categorical Features :  ['Location', 'WindDir9am', 'RainToday']\n"
          ]
        }
      ]
    },
    {
      "cell_type": "markdown",
      "metadata": {
        "id": "qtetAjh32-D3"
      },
      "source": [
        "## Fill ค่าว่างของ columns ที่เป็น categorical feature โดยใช้ mode()"
      ]
    },
    {
      "cell_type": "code",
      "metadata": {
        "id": "Is5UcmHy3AaC"
      },
      "source": [
        "#fill null values in categorical_feature using mode()\n",
        "for each_feature in categorical_features :\n",
        "    admission_df[each_feature].fillna(admission_df[each_feature].mode()[0], inplace=True)"
      ],
      "execution_count": null,
      "outputs": []
    },
    {
      "cell_type": "code",
      "metadata": {
        "id": "hswvJvlP3C34",
        "colab": {
          "base_uri": "https://localhost:8080/"
        },
        "outputId": "46a994fc-db02-41af-e867-8bd2b703c4f6"
      },
      "source": [
        "admission_df[categorical_features].isna().sum()"
      ],
      "execution_count": null,
      "outputs": [
        {
          "output_type": "execute_result",
          "data": {
            "text/plain": [
              "Location      0\n",
              "WindDir9am    0\n",
              "RainToday     0\n",
              "dtype: int64"
            ]
          },
          "metadata": {},
          "execution_count": 104
        }
      ]
    },
    {
      "cell_type": "markdown",
      "metadata": {
        "id": "rZVR5ssb3E6K"
      },
      "source": [
        "# ตรวจสอบข้อมูลที่เป็น Numerical Features"
      ]
    },
    {
      "cell_type": "code",
      "metadata": {
        "id": "eQv9ntEv3HVc",
        "colab": {
          "base_uri": "https://localhost:8080/"
        },
        "outputId": "be157daa-6f8b-4f69-ce46-952865c21a1f"
      },
      "source": [
        "#เก็บค่า columns ที่เป็น numerical feature ไว้ในตัวแปร numerical_features\n",
        "numerical_features = [column_name for column_name in admission_df if admission_df[column_name].dtype != 'O']\n",
        "print(\"Name of Numerical Features : \",numerical_features)"
      ],
      "execution_count": null,
      "outputs": [
        {
          "output_type": "stream",
          "name": "stdout",
          "text": [
            "Name of Numerical Features :  ['MinTemp', 'MaxTemp', 'Sunshine', 'WindSpeed9am', 'Humidity9am', 'Pressure9am', 'Cloud9am', 'Temp9am', 'year', 'month', 'day']\n"
          ]
        }
      ]
    },
    {
      "cell_type": "markdown",
      "metadata": {
        "id": "OShbCHH-3MhQ"
      },
      "source": [
        "**Checking for outliner in Numerical feature**"
      ]
    },
    {
      "cell_type": "code",
      "metadata": {
        "id": "PnPXW2jz3O2o",
        "colab": {
          "base_uri": "https://localhost:8080/",
          "height": 1000
        },
        "outputId": "3f439672-96af-4748-be74-9d54befdc100"
      },
      "source": [
        "#checking for outliner using Box plot\n",
        "for feature in numerical_features :\n",
        "    plt.figure(figsize=(5,5))\n",
        "    sns.boxplot(admission_df[feature])\n",
        "    plt.title(feature)"
      ],
      "execution_count": null,
      "outputs": [
        {
          "output_type": "stream",
          "name": "stderr",
          "text": [
            "/usr/local/lib/python3.7/dist-packages/seaborn/_decorators.py:43: FutureWarning: Pass the following variable as a keyword arg: x. From version 0.12, the only valid positional argument will be `data`, and passing other arguments without an explicit keyword will result in an error or misinterpretation.\n",
            "  FutureWarning\n",
            "/usr/local/lib/python3.7/dist-packages/seaborn/_decorators.py:43: FutureWarning: Pass the following variable as a keyword arg: x. From version 0.12, the only valid positional argument will be `data`, and passing other arguments without an explicit keyword will result in an error or misinterpretation.\n",
            "  FutureWarning\n",
            "/usr/local/lib/python3.7/dist-packages/seaborn/_decorators.py:43: FutureWarning: Pass the following variable as a keyword arg: x. From version 0.12, the only valid positional argument will be `data`, and passing other arguments without an explicit keyword will result in an error or misinterpretation.\n",
            "  FutureWarning\n",
            "/usr/local/lib/python3.7/dist-packages/seaborn/_decorators.py:43: FutureWarning: Pass the following variable as a keyword arg: x. From version 0.12, the only valid positional argument will be `data`, and passing other arguments without an explicit keyword will result in an error or misinterpretation.\n",
            "  FutureWarning\n",
            "/usr/local/lib/python3.7/dist-packages/seaborn/_decorators.py:43: FutureWarning: Pass the following variable as a keyword arg: x. From version 0.12, the only valid positional argument will be `data`, and passing other arguments without an explicit keyword will result in an error or misinterpretation.\n",
            "  FutureWarning\n",
            "/usr/local/lib/python3.7/dist-packages/seaborn/_decorators.py:43: FutureWarning: Pass the following variable as a keyword arg: x. From version 0.12, the only valid positional argument will be `data`, and passing other arguments without an explicit keyword will result in an error or misinterpretation.\n",
            "  FutureWarning\n",
            "/usr/local/lib/python3.7/dist-packages/seaborn/_decorators.py:43: FutureWarning: Pass the following variable as a keyword arg: x. From version 0.12, the only valid positional argument will be `data`, and passing other arguments without an explicit keyword will result in an error or misinterpretation.\n",
            "  FutureWarning\n",
            "/usr/local/lib/python3.7/dist-packages/seaborn/_decorators.py:43: FutureWarning: Pass the following variable as a keyword arg: x. From version 0.12, the only valid positional argument will be `data`, and passing other arguments without an explicit keyword will result in an error or misinterpretation.\n",
            "  FutureWarning\n",
            "/usr/local/lib/python3.7/dist-packages/seaborn/_decorators.py:43: FutureWarning: Pass the following variable as a keyword arg: x. From version 0.12, the only valid positional argument will be `data`, and passing other arguments without an explicit keyword will result in an error or misinterpretation.\n",
            "  FutureWarning\n",
            "/usr/local/lib/python3.7/dist-packages/seaborn/_decorators.py:43: FutureWarning: Pass the following variable as a keyword arg: x. From version 0.12, the only valid positional argument will be `data`, and passing other arguments without an explicit keyword will result in an error or misinterpretation.\n",
            "  FutureWarning\n",
            "/usr/local/lib/python3.7/dist-packages/seaborn/_decorators.py:43: FutureWarning: Pass the following variable as a keyword arg: x. From version 0.12, the only valid positional argument will be `data`, and passing other arguments without an explicit keyword will result in an error or misinterpretation.\n",
            "  FutureWarning\n"
          ]
        },
        {
          "output_type": "display_data",
          "data": {
            "image/png": "[encoded data removed]",
            "text/plain": [
              "<Figure size 360x360 with 1 Axes>"
            ]
          },
          "metadata": {
            "needs_background": "light"
          }
        },
        {
          "output_type": "display_data",
          "data": {
            "image/png": "[encoded data removed]",
            "text/plain": [
              "<Figure size 360x360 with 1 Axes>"
            ]
          },
          "metadata": {
            "needs_background": "light"
          }
        },
        {
          "output_type": "display_data",
          "data": {
            "image/png": "[encoded data removed]",
            "text/plain": [
              "<Figure size 360x360 with 1 Axes>"
            ]
          },
          "metadata": {
            "needs_background": "light"
          }
        },
        {
          "output_type": "display_data",
          "data": {
            "image/png": "[encoded data removed]",
            "text/plain": [
              "<Figure size 360x360 with 1 Axes>"
            ]
          },
          "metadata": {
            "needs_background": "light"
          }
        },
        {
          "output_type": "display_data",
          "data": {
            "image/png": "[encoded data removed]",
            "text/plain": [
              "<Figure size 360x360 with 1 Axes>"
            ]
          },
          "metadata": {
            "needs_background": "light"
          }
        },
        {
          "output_type": "display_data",
          "data": {
            "image/png": "[encoded data removed]",
            "text/plain": [
              "<Figure size 360x360 with 1 Axes>"
            ]
          },
          "metadata": {
            "needs_background": "light"
          }
        },
        {
          "output_type": "display_data",
          "data": {
            "image/png": "[encoded data removed]",
            "text/plain": [
              "<Figure size 360x360 with 1 Axes>"
            ]
          },
          "metadata": {
            "needs_background": "light"
          }
        },
        {
          "output_type": "display_data",
          "data": {
            "image/png": "[encoded data removed]",
            "text/plain": [
              "<Figure size 360x360 with 1 Axes>"
            ]
          },
          "metadata": {
            "needs_background": "light"
          }
        },
        {
          "output_type": "display_data",
          "data": {
            "image/png": "[encoded data removed]",
            "text/plain": [
              "<Figure size 360x360 with 1 Axes>"
            ]
          },
          "metadata": {
            "needs_background": "light"
          }
        },
        {
          "output_type": "display_data",
          "data": {
            "image/png": "[encoded data removed]",
            "text/plain": [
              "<Figure size 360x360 with 1 Axes>"
            ]
          },
          "metadata": {
            "needs_background": "light"
          }
        },
        {
          "output_type": "display_data",
          "data": {
            "image/png": "[encoded data removed]",
            "text/plain": [
              "<Figure size 360x360 with 1 Axes>"
            ]
          },
          "metadata": {
            "needs_background": "light"
          }
        }
      ]
    },
    {
      "cell_type": "markdown",
      "metadata": {
        "id": "nDuL2uss3SS-"
      },
      "source": [
        "# **Remove outliner from numerical features**"
      ]
    },
    {
      "cell_type": "code",
      "metadata": {
        "id": "WCZHbDwT3UZl"
      },
      "source": [
        "#features which has outliners\n",
        "feature_has_outliner = ['MinTemp', 'MaxTemp' , 'WindSpeed9am', 'Humidity9am', 'Pressure9am', 'Temp9am']"
      ],
      "execution_count": null,
      "outputs": []
    },
    {
      "cell_type": "code",
      "metadata": {
        "id": "KmGumqug3WHd"
      },
      "source": [
        "#replacing outliner using IQR\n",
        "for feature in feature_has_outliner :\n",
        "    q1 = admission_df[feature].quantile(0.25)\n",
        "    q3 = admission_df[feature].quantile(0.75)\n",
        "    IQR = q3-q1 #ค่าพิสัยระหว่างควอไทล์ (interquartile range)\n",
        "    lower_limit = q1 - (IQR*1.5)\n",
        "    upper_limit = q3 + (IQR*1.5)\n",
        "    admission_df.loc[admission_df[feature] < lower_limit, feature] = lower_limit\n",
        "    admission_df.loc[admission_df[feature] > upper_limit, feature] = upper_limit"
      ],
      "execution_count": null,
      "outputs": []
    },
    {
      "cell_type": "code",
      "metadata": {
        "id": "PCnuQIzC3Xtt",
        "colab": {
          "base_uri": "https://localhost:8080/",
          "height": 1000
        },
        "outputId": "92214af4-ab2f-4afd-8801-272b65cc1e55"
      },
      "source": [
        "#checking again to see if there is still has outliners in each numerical features\n",
        "for feature in feature_has_outliner :\n",
        "    plt.figure(figsize=(5,5))\n",
        "    sns.boxplot(admission_df[feature])\n",
        "    plt.title(feature)"
      ],
      "execution_count": null,
      "outputs": [
        {
          "output_type": "stream",
          "name": "stderr",
          "text": [
            "/usr/local/lib/python3.7/dist-packages/seaborn/_decorators.py:43: FutureWarning: Pass the following variable as a keyword arg: x. From version 0.12, the only valid positional argument will be `data`, and passing other arguments without an explicit keyword will result in an error or misinterpretation.\n",
            "  FutureWarning\n",
            "/usr/local/lib/python3.7/dist-packages/seaborn/_decorators.py:43: FutureWarning: Pass the following variable as a keyword arg: x. From version 0.12, the only valid positional argument will be `data`, and passing other arguments without an explicit keyword will result in an error or misinterpretation.\n",
            "  FutureWarning\n",
            "/usr/local/lib/python3.7/dist-packages/seaborn/_decorators.py:43: FutureWarning: Pass the following variable as a keyword arg: x. From version 0.12, the only valid positional argument will be `data`, and passing other arguments without an explicit keyword will result in an error or misinterpretation.\n",
            "  FutureWarning\n",
            "/usr/local/lib/python3.7/dist-packages/seaborn/_decorators.py:43: FutureWarning: Pass the following variable as a keyword arg: x. From version 0.12, the only valid positional argument will be `data`, and passing other arguments without an explicit keyword will result in an error or misinterpretation.\n",
            "  FutureWarning\n",
            "/usr/local/lib/python3.7/dist-packages/seaborn/_decorators.py:43: FutureWarning: Pass the following variable as a keyword arg: x. From version 0.12, the only valid positional argument will be `data`, and passing other arguments without an explicit keyword will result in an error or misinterpretation.\n",
            "  FutureWarning\n",
            "/usr/local/lib/python3.7/dist-packages/seaborn/_decorators.py:43: FutureWarning: Pass the following variable as a keyword arg: x. From version 0.12, the only valid positional argument will be `data`, and passing other arguments without an explicit keyword will result in an error or misinterpretation.\n",
            "  FutureWarning\n"
          ]
        },
        {
          "output_type": "display_data",
          "data": {
            "image/png": "[encoded data removed]",
            "text/plain": [
              "<Figure size 360x360 with 1 Axes>"
            ]
          },
          "metadata": {
            "needs_background": "light"
          }
        },
        {
          "output_type": "display_data",
          "data": {
            "image/png": "[encoded data removed]",
            "text/plain": [
              "<Figure size 360x360 with 1 Axes>"
            ]
          },
          "metadata": {
            "needs_background": "light"
          }
        },
        {
          "output_type": "display_data",
          "data": {
            "image/png": "[encoded data removed]",
            "text/plain": [
              "<Figure size 360x360 with 1 Axes>"
            ]
          },
          "metadata": {
            "needs_background": "light"
          }
        },
        {
          "output_type": "display_data",
          "data": {
            "image/png": "[encoded data removed]",
            "text/plain": [
              "<Figure size 360x360 with 1 Axes>"
            ]
          },
          "metadata": {
            "needs_background": "light"
          }
        },
        {
          "output_type": "display_data",
          "data": {
            "image/png": "[encoded data removed]",
            "text/plain": [
              "<Figure size 360x360 with 1 Axes>"
            ]
          },
          "metadata": {
            "needs_background": "light"
          }
        },
        {
          "output_type": "display_data",
          "data": {
            "image/png": "[encoded data removed]",
            "text/plain": [
              "<Figure size 360x360 with 1 Axes>"
            ]
          },
          "metadata": {
            "needs_background": "light"
          }
        }
      ]
    },
    {
      "cell_type": "markdown",
      "metadata": {
        "id": "ImnDktNx3aEk"
      },
      "source": [
        "## **Fill ค่าว่างด้วย mean ของ column นั้น**\n",
        "\n",
        "ตรวจสอบว่าข้อมูลใน column ไหนที่มีค่าว่างมากกว่า 40% ของข้อมูลบ้าง  เราก็จะทำการ fill ค่าว่างนั้นด้วย mean ของ column นั้นๆ"
      ]
    },
    {
      "cell_type": "code",
      "metadata": {
        "id": "VJysSo293cg2",
        "colab": {
          "base_uri": "https://localhost:8080/",
          "height": 238
        },
        "outputId": "9119bac6-c02d-4fff-e0f1-127d10a3c389"
      },
      "source": [
        "for column_name in admission_df :\n",
        "    if(admission_df[column_name].isna().sum() > (0.4*(len(admission_df)))) :\n",
        "        admission_df[column_name].fillna(admission_df[column_name].mean(), inplace = True)\n",
        "        display('NaN values in column {} was fulfill by its mean'.format(column_name))\n",
        "        display(admission_df[column_name])"
      ],
      "execution_count": null,
      "outputs": [
        {
          "output_type": "display_data",
          "data": {
            "application/vnd.google.colaboratory.intrinsic+json": {
              "type": "string"
            },
            "text/plain": [
              "'NaN values in column Sunshine was fulfill by its mean'"
            ]
          },
          "metadata": {}
        },
        {
          "output_type": "display_data",
          "data": {
            "text/plain": [
              "0         7.611178\n",
              "1         7.611178\n",
              "2         7.611178\n",
              "3         7.611178\n",
              "4         7.611178\n",
              "            ...   \n",
              "145455    7.611178\n",
              "145456    7.611178\n",
              "145457    7.611178\n",
              "145458    7.611178\n",
              "145459    7.611178\n",
              "Name: Sunshine, Length: 145460, dtype: float64"
            ]
          },
          "metadata": {}
        }
      ]
    },
    {
      "cell_type": "markdown",
      "metadata": {
        "id": "ACtzywaL3evr"
      },
      "source": [
        "fill ข้อมูลใน columns ที่เหลือโดยใช้ mean() เช่นกัน"
      ]
    },
    {
      "cell_type": "code",
      "metadata": {
        "id": "q0_1odFj3grB"
      },
      "source": [
        "for column_name in numerical_features :\n",
        "    admission_df[column_name].fillna(admission_df[column_name].mean(), inplace=True)"
      ],
      "execution_count": null,
      "outputs": []
    },
    {
      "cell_type": "code",
      "metadata": {
        "id": "Z9HPUdvk3inO",
        "colab": {
          "base_uri": "https://localhost:8080/"
        },
        "outputId": "e0e79478-9732-49a2-95de-db545252c7e7"
      },
      "source": [
        "admission_df[numerical_features].isna().sum()"
      ],
      "execution_count": null,
      "outputs": [
        {
          "output_type": "execute_result",
          "data": {
            "text/plain": [
              "MinTemp         0\n",
              "MaxTemp         0\n",
              "Sunshine        0\n",
              "WindSpeed9am    0\n",
              "Humidity9am     0\n",
              "Pressure9am     0\n",
              "Cloud9am        0\n",
              "Temp9am         0\n",
              "year            0\n",
              "month           0\n",
              "day             0\n",
              "dtype: int64"
            ]
          },
          "metadata": {},
          "execution_count": 113
        }
      ]
    },
    {
      "cell_type": "markdown",
      "metadata": {
        "id": "E5Eiwreu3lWN"
      },
      "source": [
        "กราฟแสดงข้อมูลในแต่ละ columns"
      ]
    },
    {
      "cell_type": "code",
      "metadata": {
        "id": "bxI5Ixw63krD",
        "colab": {
          "base_uri": "https://localhost:8080/",
          "height": 1000
        },
        "outputId": "2d7c7812-9974-4853-8ba0-f0a898715d6e"
      },
      "source": [
        "admission_df[numerical_features].hist(bins=10,figsize=(20,20))"
      ],
      "execution_count": null,
      "outputs": [
        {
          "output_type": "execute_result",
          "data": {
            "text/plain": [
              "array([[<matplotlib.axes._subplots.AxesSubplot object at 0x7f0588e120d0>,\n",
              "        <matplotlib.axes._subplots.AxesSubplot object at 0x7f057dd5d810>,\n",
              "        <matplotlib.axes._subplots.AxesSubplot object at 0x7f058b0b3950>,\n",
              "        <matplotlib.axes._subplots.AxesSubplot object at 0x7f058b07d690>],\n",
              "       [<matplotlib.axes._subplots.AxesSubplot object at 0x7f058940a410>,\n",
              "        <matplotlib.axes._subplots.AxesSubplot object at 0x7f058af2f710>,\n",
              "        <matplotlib.axes._subplots.AxesSubplot object at 0x7f058af99ed0>,\n",
              "        <matplotlib.axes._subplots.AxesSubplot object at 0x7f058aeef4d0>],\n",
              "       [<matplotlib.axes._subplots.AxesSubplot object at 0x7f05893bc950>,\n",
              "        <matplotlib.axes._subplots.AxesSubplot object at 0x7f057dcb3b10>,\n",
              "        <matplotlib.axes._subplots.AxesSubplot object at 0x7f057dc25750>,\n",
              "        <matplotlib.axes._subplots.AxesSubplot object at 0x7f057dbd9dd0>],\n",
              "       [<matplotlib.axes._subplots.AxesSubplot object at 0x7f057db9c490>,\n",
              "        <matplotlib.axes._subplots.AxesSubplot object at 0x7f057db51b10>,\n",
              "        <matplotlib.axes._subplots.AxesSubplot object at 0x7f057db151d0>,\n",
              "        <matplotlib.axes._subplots.AxesSubplot object at 0x7f057dac9850>]],\n",
              "      dtype=object)"
            ]
          },
          "metadata": {},
          "execution_count": 86
        },
        {
          "output_type": "display_data",
          "data": {
            "image/png": "[encoded data removed]",
            "text/plain": [
              "<Figure size 1440x1440 with 16 Axes>"
            ]
          },
          "metadata": {
            "needs_background": "light"
          }
        }
      ]
    },
    {
      "cell_type": "markdown",
      "metadata": {
        "id": "Q-32o1b64Auf"
      },
      "source": [
        "# ดูความสัมพันธ์ของข้อมูล"
      ]
    },
    {
      "cell_type": "code",
      "metadata": {
        "id": "6SHboN9k4CVp",
        "colab": {
          "base_uri": "https://localhost:8080/",
          "height": 503
        },
        "outputId": "6e5baeb7-e731-4659-9aa5-d74bdb8907e4"
      },
      "source": [
        "#see correlation using .corr()\n",
        "admission_df.corr()"
      ],
      "execution_count": null,
      "outputs": [
        {
          "output_type": "execute_result",
          "data": {
            "text/html": [
              "<div>\n",
              "<style scoped>\n",
              "    .dataframe tbody tr th:only-of-type {\n",
              "        vertical-align: middle;\n",
              "    }\n",
              "\n",
              "    .dataframe tbody tr th {\n",
              "        vertical-align: top;\n",
              "    }\n",
              "\n",
              "    .dataframe thead th {\n",
              "        text-align: right;\n",
              "    }\n",
              "</style>\n",
              "<table border=\"1\" class=\"dataframe\">\n",
              "  <thead>\n",
              "    <tr style=\"text-align: right;\">\n",
              "      <th></th>\n",
              "      <th>Location</th>\n",
              "      <th>MinTemp</th>\n",
              "      <th>MaxTemp</th>\n",
              "      <th>Sunshine</th>\n",
              "      <th>WindDir9am</th>\n",
              "      <th>WindSpeed9am</th>\n",
              "      <th>Humidity9am</th>\n",
              "      <th>Pressure9am</th>\n",
              "      <th>Cloud9am</th>\n",
              "      <th>Temp9am</th>\n",
              "      <th>RainToday</th>\n",
              "      <th>year</th>\n",
              "      <th>month</th>\n",
              "      <th>day</th>\n",
              "    </tr>\n",
              "  </thead>\n",
              "  <tbody>\n",
              "    <tr>\n",
              "      <th>Location</th>\n",
              "      <td>1.000000</td>\n",
              "      <td>0.068929</td>\n",
              "      <td>0.101898</td>\n",
              "      <td>0.048676</td>\n",
              "      <td>-0.015583</td>\n",
              "      <td>0.076143</td>\n",
              "      <td>-0.140211</td>\n",
              "      <td>-0.094839</td>\n",
              "      <td>-0.049721</td>\n",
              "      <td>0.111947</td>\n",
              "      <td>-0.007359</td>\n",
              "      <td>0.026622</td>\n",
              "      <td>0.004935</td>\n",
              "      <td>-0.000057</td>\n",
              "    </tr>\n",
              "    <tr>\n",
              "      <th>MinTemp</th>\n",
              "      <td>0.068929</td>\n",
              "      <td>1.000000</td>\n",
              "      <td>0.733379</td>\n",
              "      <td>0.051296</td>\n",
              "      <td>-0.022108</td>\n",
              "      <td>0.177538</td>\n",
              "      <td>-0.230711</td>\n",
              "      <td>-0.432680</td>\n",
              "      <td>0.062157</td>\n",
              "      <td>0.897780</td>\n",
              "      <td>0.054589</td>\n",
              "      <td>0.043010</td>\n",
              "      <td>-0.202753</td>\n",
              "      <td>0.002338</td>\n",
              "    </tr>\n",
              "    <tr>\n",
              "      <th>MaxTemp</th>\n",
              "      <td>0.101898</td>\n",
              "      <td>0.733379</td>\n",
              "      <td>1.000000</td>\n",
              "      <td>0.329751</td>\n",
              "      <td>0.030111</td>\n",
              "      <td>0.017170</td>\n",
              "      <td>-0.497130</td>\n",
              "      <td>-0.319101</td>\n",
              "      <td>-0.225832</td>\n",
              "      <td>0.879387</td>\n",
              "      <td>-0.225273</td>\n",
              "      <td>0.061736</td>\n",
              "      <td>-0.163198</td>\n",
              "      <td>0.000656</td>\n",
              "    </tr>\n",
              "    <tr>\n",
              "      <th>Sunshine</th>\n",
              "      <td>0.048676</td>\n",
              "      <td>0.051296</td>\n",
              "      <td>0.329751</td>\n",
              "      <td>1.000000</td>\n",
              "      <td>0.008854</td>\n",
              "      <td>0.006782</td>\n",
              "      <td>-0.349320</td>\n",
              "      <td>0.028877</td>\n",
              "      <td>-0.532497</td>\n",
              "      <td>0.208726</td>\n",
              "      <td>-0.235296</td>\n",
              "      <td>0.006072</td>\n",
              "      <td>0.017589</td>\n",
              "      <td>-0.000286</td>\n",
              "    </tr>\n",
              "    <tr>\n",
              "      <th>WindDir9am</th>\n",
              "      <td>-0.015583</td>\n",
              "      <td>-0.022108</td>\n",
              "      <td>0.030111</td>\n",
              "      <td>0.008854</td>\n",
              "      <td>1.000000</td>\n",
              "      <td>-0.024693</td>\n",
              "      <td>-0.018373</td>\n",
              "      <td>-0.005582</td>\n",
              "      <td>-0.024048</td>\n",
              "      <td>0.006926</td>\n",
              "      <td>-0.040339</td>\n",
              "      <td>0.007230</td>\n",
              "      <td>0.012605</td>\n",
              "      <td>0.007095</td>\n",
              "    </tr>\n",
              "    <tr>\n",
              "      <th>WindSpeed9am</th>\n",
              "      <td>0.076143</td>\n",
              "      <td>0.177538</td>\n",
              "      <td>0.017170</td>\n",
              "      <td>0.006782</td>\n",
              "      <td>-0.024693</td>\n",
              "      <td>1.000000</td>\n",
              "      <td>-0.273399</td>\n",
              "      <td>-0.213510</td>\n",
              "      <td>0.018119</td>\n",
              "      <td>0.131750</td>\n",
              "      <td>0.098274</td>\n",
              "      <td>-0.017855</td>\n",
              "      <td>0.051481</td>\n",
              "      <td>-0.008879</td>\n",
              "    </tr>\n",
              "    <tr>\n",
              "      <th>Humidity9am</th>\n",
              "      <td>-0.140211</td>\n",
              "      <td>-0.230711</td>\n",
              "      <td>-0.497130</td>\n",
              "      <td>-0.349320</td>\n",
              "      <td>-0.018373</td>\n",
              "      <td>-0.273399</td>\n",
              "      <td>1.000000</td>\n",
              "      <td>0.134553</td>\n",
              "      <td>0.354042</td>\n",
              "      <td>-0.468511</td>\n",
              "      <td>0.348419</td>\n",
              "      <td>0.009745</td>\n",
              "      <td>-0.089070</td>\n",
              "      <td>0.015121</td>\n",
              "    </tr>\n",
              "    <tr>\n",
              "      <th>Pressure9am</th>\n",
              "      <td>-0.094839</td>\n",
              "      <td>-0.432680</td>\n",
              "      <td>-0.319101</td>\n",
              "      <td>0.028877</td>\n",
              "      <td>-0.005582</td>\n",
              "      <td>-0.213510</td>\n",
              "      <td>0.134553</td>\n",
              "      <td>1.000000</td>\n",
              "      <td>-0.100832</td>\n",
              "      <td>-0.407458</td>\n",
              "      <td>-0.174517</td>\n",
              "      <td>0.028147</td>\n",
              "      <td>0.035301</td>\n",
              "      <td>-0.019914</td>\n",
              "    </tr>\n",
              "    <tr>\n",
              "      <th>Cloud9am</th>\n",
              "      <td>-0.049721</td>\n",
              "      <td>0.062157</td>\n",
              "      <td>-0.225832</td>\n",
              "      <td>-0.532497</td>\n",
              "      <td>-0.024048</td>\n",
              "      <td>0.018119</td>\n",
              "      <td>0.354042</td>\n",
              "      <td>-0.100832</td>\n",
              "      <td>1.000000</td>\n",
              "      <td>-0.109049</td>\n",
              "      <td>0.243208</td>\n",
              "      <td>0.051533</td>\n",
              "      <td>-0.007930</td>\n",
              "      <td>0.005702</td>\n",
              "    </tr>\n",
              "    <tr>\n",
              "      <th>Temp9am</th>\n",
              "      <td>0.111947</td>\n",
              "      <td>0.897780</td>\n",
              "      <td>0.879387</td>\n",
              "      <td>0.208726</td>\n",
              "      <td>0.006926</td>\n",
              "      <td>0.131750</td>\n",
              "      <td>-0.468511</td>\n",
              "      <td>-0.407458</td>\n",
              "      <td>-0.109049</td>\n",
              "      <td>1.000000</td>\n",
              "      <td>-0.095691</td>\n",
              "      <td>0.045690</td>\n",
              "      <td>-0.135287</td>\n",
              "      <td>0.000181</td>\n",
              "    </tr>\n",
              "    <tr>\n",
              "      <th>RainToday</th>\n",
              "      <td>-0.007359</td>\n",
              "      <td>0.054589</td>\n",
              "      <td>-0.225273</td>\n",
              "      <td>-0.235296</td>\n",
              "      <td>-0.040339</td>\n",
              "      <td>0.098274</td>\n",
              "      <td>0.348419</td>\n",
              "      <td>-0.174517</td>\n",
              "      <td>0.243208</td>\n",
              "      <td>-0.095691</td>\n",
              "      <td>1.000000</td>\n",
              "      <td>-0.014222</td>\n",
              "      <td>0.010441</td>\n",
              "      <td>0.003443</td>\n",
              "    </tr>\n",
              "    <tr>\n",
              "      <th>year</th>\n",
              "      <td>0.026622</td>\n",
              "      <td>0.043010</td>\n",
              "      <td>0.061736</td>\n",
              "      <td>0.006072</td>\n",
              "      <td>0.007230</td>\n",
              "      <td>-0.017855</td>\n",
              "      <td>0.009745</td>\n",
              "      <td>0.028147</td>\n",
              "      <td>0.051533</td>\n",
              "      <td>0.045690</td>\n",
              "      <td>-0.014222</td>\n",
              "      <td>1.000000</td>\n",
              "      <td>-0.112375</td>\n",
              "      <td>-0.005042</td>\n",
              "    </tr>\n",
              "    <tr>\n",
              "      <th>month</th>\n",
              "      <td>0.004935</td>\n",
              "      <td>-0.202753</td>\n",
              "      <td>-0.163198</td>\n",
              "      <td>0.017589</td>\n",
              "      <td>0.012605</td>\n",
              "      <td>0.051481</td>\n",
              "      <td>-0.089070</td>\n",
              "      <td>0.035301</td>\n",
              "      <td>-0.007930</td>\n",
              "      <td>-0.135287</td>\n",
              "      <td>0.010441</td>\n",
              "      <td>-0.112375</td>\n",
              "      <td>1.000000</td>\n",
              "      <td>0.009223</td>\n",
              "    </tr>\n",
              "    <tr>\n",
              "      <th>day</th>\n",
              "      <td>-0.000057</td>\n",
              "      <td>0.002338</td>\n",
              "      <td>0.000656</td>\n",
              "      <td>-0.000286</td>\n",
              "      <td>0.007095</td>\n",
              "      <td>-0.008879</td>\n",
              "      <td>0.015121</td>\n",
              "      <td>-0.019914</td>\n",
              "      <td>0.005702</td>\n",
              "      <td>0.000181</td>\n",
              "      <td>0.003443</td>\n",
              "      <td>-0.005042</td>\n",
              "      <td>0.009223</td>\n",
              "      <td>1.000000</td>\n",
              "    </tr>\n",
              "  </tbody>\n",
              "</table>\n",
              "</div>"
            ],
            "text/plain": [
              "              Location   MinTemp   MaxTemp  ...      year     month       day\n",
              "Location      1.000000  0.068929  0.101898  ...  0.026622  0.004935 -0.000057\n",
              "MinTemp       0.068929  1.000000  0.733379  ...  0.043010 -0.202753  0.002338\n",
              "MaxTemp       0.101898  0.733379  1.000000  ...  0.061736 -0.163198  0.000656\n",
              "Sunshine      0.048676  0.051296  0.329751  ...  0.006072  0.017589 -0.000286\n",
              "WindDir9am   -0.015583 -0.022108  0.030111  ...  0.007230  0.012605  0.007095\n",
              "WindSpeed9am  0.076143  0.177538  0.017170  ... -0.017855  0.051481 -0.008879\n",
              "Humidity9am  -0.140211 -0.230711 -0.497130  ...  0.009745 -0.089070  0.015121\n",
              "Pressure9am  -0.094839 -0.432680 -0.319101  ...  0.028147  0.035301 -0.019914\n",
              "Cloud9am     -0.049721  0.062157 -0.225832  ...  0.051533 -0.007930  0.005702\n",
              "Temp9am       0.111947  0.897780  0.879387  ...  0.045690 -0.135287  0.000181\n",
              "RainToday    -0.007359  0.054589 -0.225273  ... -0.014222  0.010441  0.003443\n",
              "year          0.026622  0.043010  0.061736  ...  1.000000 -0.112375 -0.005042\n",
              "month         0.004935 -0.202753 -0.163198  ... -0.112375  1.000000  0.009223\n",
              "day          -0.000057  0.002338  0.000656  ... -0.005042  0.009223  1.000000\n",
              "\n",
              "[14 rows x 14 columns]"
            ]
          },
          "metadata": {},
          "execution_count": 87
        }
      ]
    },
    {
      "cell_type": "code",
      "metadata": {
        "id": "McgAzo-v4EHJ",
        "colab": {
          "base_uri": "https://localhost:8080/",
          "height": 681
        },
        "outputId": "2251e687-7b3f-4d2a-955c-fa0b7f698b25"
      },
      "source": [
        "#see correlation using heatmap\n",
        "plt.figure(figsize=(10,10))\n",
        "sns.heatmap(admission_df.corr(),linewidths=0.5, annot=True, fmt='.2f')"
      ],
      "execution_count": null,
      "outputs": [
        {
          "output_type": "execute_result",
          "data": {
            "text/plain": [
              "<matplotlib.axes._subplots.AxesSubplot at 0x7f057d787710>"
            ]
          },
          "metadata": {},
          "execution_count": 88
        },
        {
          "output_type": "display_data",
          "data": {
            "image/png": "[encoded data removed]",
            "text/plain": [
              "<Figure size 720x720 with 2 Axes>"
            ]
          },
          "metadata": {
            "needs_background": "light"
          }
        }
      ]
    },
    {
      "cell_type": "markdown",
      "metadata": {
        "id": "6PyrkJgb4GIB"
      },
      "source": [
        "# Encoding of categorical feature"
      ]
    },
    {
      "cell_type": "code",
      "metadata": {
        "id": "rUljectI4IAr",
        "colab": {
          "base_uri": "https://localhost:8080/"
        },
        "outputId": "5847d03d-6c93-4bff-e893-cfefe7f3dfeb"
      },
      "source": [
        "categorical_features"
      ],
      "execution_count": null,
      "outputs": [
        {
          "output_type": "execute_result",
          "data": {
            "text/plain": [
              "['Location', 'WindDir9am', 'RainToday']"
            ]
          },
          "metadata": {},
          "execution_count": 114
        }
      ]
    },
    {
      "cell_type": "markdown",
      "metadata": {
        "id": "MMjHf4mq4JzW"
      },
      "source": [
        "**เปลี่ยนค่า Yes -> 1 และ No -> 0 ใน columns RainToday**"
      ]
    },
    {
      "cell_type": "code",
      "metadata": {
        "id": "4YJj76mF4LiG"
      },
      "source": [
        "admission_df.replace({'RainToday' : {'Yes' : 1 , 'No' : 0}}, inplace=True)"
      ],
      "execution_count": null,
      "outputs": []
    },
    {
      "cell_type": "code",
      "metadata": {
        "id": "J4FQUuHV4OQg"
      },
      "source": [
        "#create function for encoding of each categorical features\n",
        "def encode_categorical_data(features_name) :\n",
        "    mapping_dict = {}\n",
        "    uni_val = list(admission_df[features_name].unique())\n",
        "    for i in range(len(uni_val)):\n",
        "        mapping_dict[uni_val[i]] = i\n",
        "    display(mapping_dict)\n",
        "    return mapping_dict"
      ],
      "execution_count": null,
      "outputs": []
    },
    {
      "cell_type": "code",
      "metadata": {
        "id": "jTL3lB0w4QWC",
        "colab": {
          "base_uri": "https://localhost:8080/",
          "height": 850
        },
        "outputId": "a42d55a4-6b48-416c-9df5-2788c3d97f38"
      },
      "source": [
        "#encoding of categorical data in column Location\n",
        "admission_df['Location'].replace(encode_categorical_data('Location'), inplace=True)"
      ],
      "execution_count": null,
      "outputs": [
        {
          "output_type": "display_data",
          "data": {
            "text/plain": [
              "{'Adelaide': 32,\n",
              " 'Albany': 36,\n",
              " 'Albury': 0,\n",
              " 'AliceSprings': 45,\n",
              " 'BadgerysCreek': 1,\n",
              " 'Ballarat': 18,\n",
              " 'Bendigo': 19,\n",
              " 'Brisbane': 28,\n",
              " 'Cairns': 29,\n",
              " 'Canberra': 15,\n",
              " 'Cobar': 2,\n",
              " 'CoffsHarbour': 3,\n",
              " 'Dartmoor': 27,\n",
              " 'Darwin': 46,\n",
              " 'GoldCoast': 30,\n",
              " 'Hobart': 43,\n",
              " 'Katherine': 47,\n",
              " 'Launceston': 44,\n",
              " 'Melbourne': 22,\n",
              " 'MelbourneAirport': 21,\n",
              " 'Mildura': 23,\n",
              " 'Moree': 4,\n",
              " 'MountGambier': 33,\n",
              " 'MountGinini': 17,\n",
              " 'Newcastle': 5,\n",
              " 'Nhil': 24,\n",
              " 'NorahHead': 6,\n",
              " 'NorfolkIsland': 7,\n",
              " 'Nuriootpa': 34,\n",
              " 'PearceRAAF': 38,\n",
              " 'Penrith': 8,\n",
              " 'Perth': 40,\n",
              " 'PerthAirport': 39,\n",
              " 'Portland': 25,\n",
              " 'Richmond': 9,\n",
              " 'Sale': 20,\n",
              " 'SalmonGums': 41,\n",
              " 'Sydney': 10,\n",
              " 'SydneyAirport': 11,\n",
              " 'Townsville': 31,\n",
              " 'Tuggeranong': 16,\n",
              " 'Uluru': 48,\n",
              " 'WaggaWagga': 12,\n",
              " 'Walpole': 42,\n",
              " 'Watsonia': 26,\n",
              " 'Williamtown': 13,\n",
              " 'Witchcliffe': 37,\n",
              " 'Wollongong': 14,\n",
              " 'Woomera': 35}"
            ]
          },
          "metadata": {}
        }
      ]
    },
    {
      "cell_type": "code",
      "metadata": {
        "id": "uBQ0kh-G4SZE",
        "colab": {
          "base_uri": "https://localhost:8080/",
          "height": 289
        },
        "outputId": "836aa78c-511c-44de-a28f-fa41a8be6113"
      },
      "source": [
        "#encoding of categorical data in column WindDir9am\n",
        "admission_df['WindDir9am'].replace(encode_categorical_data('WindDir9am'), inplace=True)"
      ],
      "execution_count": null,
      "outputs": [
        {
          "output_type": "display_data",
          "data": {
            "text/plain": [
              "{'E': 12,\n",
              " 'ENE': 3,\n",
              " 'ESE': 11,\n",
              " 'N': 8,\n",
              " 'NE': 7,\n",
              " 'NNE': 15,\n",
              " 'NNW': 1,\n",
              " 'NW': 13,\n",
              " 'S': 6,\n",
              " 'SE': 2,\n",
              " 'SSE': 5,\n",
              " 'SSW': 9,\n",
              " 'SW': 4,\n",
              " 'W': 0,\n",
              " 'WNW': 14,\n",
              " 'WSW': 10}"
            ]
          },
          "metadata": {}
        }
      ]
    },
    {
      "cell_type": "code",
      "metadata": {
        "id": "kovuRdkB4UTO",
        "colab": {
          "base_uri": "https://localhost:8080/",
          "height": 204
        },
        "outputId": "166dbd00-3987-4384-acfa-89d578d3b919"
      },
      "source": [
        "admission_df.head()"
      ],
      "execution_count": null,
      "outputs": [
        {
          "output_type": "execute_result",
          "data": {
            "text/html": [
              "<div>\n",
              "<style scoped>\n",
              "    .dataframe tbody tr th:only-of-type {\n",
              "        vertical-align: middle;\n",
              "    }\n",
              "\n",
              "    .dataframe tbody tr th {\n",
              "        vertical-align: top;\n",
              "    }\n",
              "\n",
              "    .dataframe thead th {\n",
              "        text-align: right;\n",
              "    }\n",
              "</style>\n",
              "<table border=\"1\" class=\"dataframe\">\n",
              "  <thead>\n",
              "    <tr style=\"text-align: right;\">\n",
              "      <th></th>\n",
              "      <th>Location</th>\n",
              "      <th>MinTemp</th>\n",
              "      <th>MaxTemp</th>\n",
              "      <th>Sunshine</th>\n",
              "      <th>WindDir9am</th>\n",
              "      <th>WindSpeed9am</th>\n",
              "      <th>Humidity9am</th>\n",
              "      <th>Pressure9am</th>\n",
              "      <th>Cloud9am</th>\n",
              "      <th>Temp9am</th>\n",
              "      <th>RainToday</th>\n",
              "      <th>year</th>\n",
              "      <th>month</th>\n",
              "      <th>day</th>\n",
              "    </tr>\n",
              "  </thead>\n",
              "  <tbody>\n",
              "    <tr>\n",
              "      <th>0</th>\n",
              "      <td>0</td>\n",
              "      <td>13.4</td>\n",
              "      <td>22.9</td>\n",
              "      <td>7.611178</td>\n",
              "      <td>0</td>\n",
              "      <td>20.0</td>\n",
              "      <td>71.0</td>\n",
              "      <td>1007.7</td>\n",
              "      <td>8.000000</td>\n",
              "      <td>16.9</td>\n",
              "      <td>0</td>\n",
              "      <td>2008</td>\n",
              "      <td>12</td>\n",
              "      <td>1</td>\n",
              "    </tr>\n",
              "    <tr>\n",
              "      <th>1</th>\n",
              "      <td>0</td>\n",
              "      <td>7.4</td>\n",
              "      <td>25.1</td>\n",
              "      <td>7.611178</td>\n",
              "      <td>1</td>\n",
              "      <td>4.0</td>\n",
              "      <td>44.0</td>\n",
              "      <td>1010.6</td>\n",
              "      <td>4.447461</td>\n",
              "      <td>17.2</td>\n",
              "      <td>0</td>\n",
              "      <td>2008</td>\n",
              "      <td>12</td>\n",
              "      <td>2</td>\n",
              "    </tr>\n",
              "    <tr>\n",
              "      <th>2</th>\n",
              "      <td>0</td>\n",
              "      <td>12.9</td>\n",
              "      <td>25.7</td>\n",
              "      <td>7.611178</td>\n",
              "      <td>0</td>\n",
              "      <td>19.0</td>\n",
              "      <td>38.0</td>\n",
              "      <td>1007.6</td>\n",
              "      <td>4.447461</td>\n",
              "      <td>21.0</td>\n",
              "      <td>0</td>\n",
              "      <td>2008</td>\n",
              "      <td>12</td>\n",
              "      <td>3</td>\n",
              "    </tr>\n",
              "    <tr>\n",
              "      <th>3</th>\n",
              "      <td>0</td>\n",
              "      <td>9.2</td>\n",
              "      <td>28.0</td>\n",
              "      <td>7.611178</td>\n",
              "      <td>2</td>\n",
              "      <td>11.0</td>\n",
              "      <td>45.0</td>\n",
              "      <td>1017.6</td>\n",
              "      <td>4.447461</td>\n",
              "      <td>18.1</td>\n",
              "      <td>0</td>\n",
              "      <td>2008</td>\n",
              "      <td>12</td>\n",
              "      <td>4</td>\n",
              "    </tr>\n",
              "    <tr>\n",
              "      <th>4</th>\n",
              "      <td>0</td>\n",
              "      <td>17.5</td>\n",
              "      <td>32.3</td>\n",
              "      <td>7.611178</td>\n",
              "      <td>3</td>\n",
              "      <td>7.0</td>\n",
              "      <td>82.0</td>\n",
              "      <td>1010.8</td>\n",
              "      <td>7.000000</td>\n",
              "      <td>17.8</td>\n",
              "      <td>0</td>\n",
              "      <td>2008</td>\n",
              "      <td>12</td>\n",
              "      <td>5</td>\n",
              "    </tr>\n",
              "  </tbody>\n",
              "</table>\n",
              "</div>"
            ],
            "text/plain": [
              "   Location  MinTemp  MaxTemp  Sunshine  ...  RainToday  year  month  day\n",
              "0         0     13.4     22.9  7.611178  ...          0  2008     12    1\n",
              "1         0      7.4     25.1  7.611178  ...          0  2008     12    2\n",
              "2         0     12.9     25.7  7.611178  ...          0  2008     12    3\n",
              "3         0      9.2     28.0  7.611178  ...          0  2008     12    4\n",
              "4         0     17.5     32.3  7.611178  ...          0  2008     12    5\n",
              "\n",
              "[5 rows x 14 columns]"
            ]
          },
          "metadata": {},
          "execution_count": 119
        }
      ]
    },
    {
      "cell_type": "code",
      "metadata": {
        "id": "Llobn1ez4WGR",
        "colab": {
          "base_uri": "https://localhost:8080/"
        },
        "outputId": "22e0c141-a6df-4a6c-c67c-e12df1767a65"
      },
      "source": [
        "admission_df.shape"
      ],
      "execution_count": null,
      "outputs": [
        {
          "output_type": "execute_result",
          "data": {
            "text/plain": [
              "(145460, 14)"
            ]
          },
          "metadata": {},
          "execution_count": 120
        }
      ]
    },
    {
      "cell_type": "markdown",
      "metadata": {
        "id": "SZIpkvPd4YCK"
      },
      "source": [
        "# Train Test Split\n",
        "\n",
        "กำหนดตัวแปรต้น (X)  และตัวแปรตาม (y)"
      ]
    },
    {
      "cell_type": "code",
      "metadata": {
        "id": "LCXbtB8w4ZlV"
      },
      "source": [
        "X = admission_df.drop(['RainToday'] , axis = 1)\n",
        "y = admission_df['RainToday']"
      ],
      "execution_count": null,
      "outputs": []
    },
    {
      "cell_type": "code",
      "metadata": {
        "id": "2OWz5mXx4cBW",
        "colab": {
          "base_uri": "https://localhost:8080/",
          "height": 503
        },
        "outputId": "8a3bbc42-68ca-45c9-ac18-32fa2b522a2b"
      },
      "source": [
        "#ดูว่า feature ไหนมีความสำคัญมากที่สุด\n",
        "etr_model = ExtraTreesRegressor()\n",
        "etr_model.fit(X,y)\n",
        "etr_model.feature_importances_\n",
        "\n",
        "feature_imp = pd.Series(etr_model.feature_importances_, index=X.columns)\n",
        "feature_imp.nlargest(10).plot(kind='barh')\n",
        "feature_imp"
      ],
      "execution_count": null,
      "outputs": [
        {
          "output_type": "execute_result",
          "data": {
            "text/plain": [
              "Location        0.063462\n",
              "MinTemp         0.099112\n",
              "MaxTemp         0.099055\n",
              "Sunshine        0.049753\n",
              "WindDir9am      0.054859\n",
              "WindSpeed9am    0.071152\n",
              "Humidity9am     0.179548\n",
              "Pressure9am     0.096618\n",
              "Cloud9am        0.058004\n",
              "Temp9am         0.062587\n",
              "year            0.052161\n",
              "month           0.057174\n",
              "day             0.056515\n",
              "dtype: float64"
            ]
          },
          "metadata": {},
          "execution_count": 36
        },
        {
          "output_type": "display_data",
          "data": {
            "image/png": "[encoded data removed]",
            "text/plain": [
              "<Figure size 432x288 with 1 Axes>"
            ]
          },
          "metadata": {
            "needs_background": "light"
          }
        }
      ]
    },
    {
      "cell_type": "markdown",
      "metadata": {
        "id": "GP1HQNoo4jLq"
      },
      "source": [
        "สร้าง Training Data และ Testing Data โดยกำหนด test_size=0.3"
      ]
    },
    {
      "cell_type": "code",
      "metadata": {
        "id": "pUbDnXhh4lgK"
      },
      "source": [
        "X_train, X_test, y_train, y_test = train_test_split(X, y, test_size=0.3)"
      ],
      "execution_count": null,
      "outputs": []
    },
    {
      "cell_type": "code",
      "metadata": {
        "id": "6HX7iwUC4nDA",
        "colab": {
          "base_uri": "https://localhost:8080/"
        },
        "outputId": "fe020987-9863-40e2-cab7-9e863e4d6925"
      },
      "source": [
        "print(\"Length of Training Data: {}\".format(len(X_train)))\n",
        "print(\"Length of Testing Data: {}\".format(len(X_test)))"
      ],
      "execution_count": null,
      "outputs": [
        {
          "output_type": "stream",
          "name": "stdout",
          "text": [
            "Length of Training Data: 101822\n",
            "Length of Testing Data: 43638\n"
          ]
        }
      ]
    },
    {
      "cell_type": "markdown",
      "metadata": {
        "id": "EHauQPbZ467o"
      },
      "source": [
        "# Logistic Regression\n",
        "Train model Logistic Regression โดยกำหนด solver='liblinear'"
      ]
    },
    {
      "cell_type": "code",
      "metadata": {
        "id": "HTRt-6GH48x9"
      },
      "source": [
        "# Create model named 'clf_lr' - use solver='liblinear'\n",
        "clf_lr = LogisticRegression(solver='liblinear')\n",
        "\n",
        "# Train model\n",
        "clf_lr.fit(X_train,y_train)\n",
        "\n",
        "# Predict named 'lr_y_pred'\n",
        "lr_y_pred = clf_lr.predict(X_test)"
      ],
      "execution_count": null,
      "outputs": []
    },
    {
      "cell_type": "markdown",
      "metadata": {
        "id": "dTVwRqXR4-mf"
      },
      "source": [
        "**คำนวณ Cross-validation**"
      ]
    },
    {
      "cell_type": "code",
      "metadata": {
        "id": "6d_XixqA5Aho",
        "colab": {
          "base_uri": "https://localhost:8080/"
        },
        "outputId": "e57bc7d5-6143-4fd2-92fb-41020abfb547"
      },
      "source": [
        "print(f'Test data accuracy score: {np.round(clf_lr.score(X_test, y_test), 2)*100}%')"
      ],
      "execution_count": null,
      "outputs": [
        {
          "output_type": "stream",
          "name": "stdout",
          "text": [
            "Test data accuracy score: 83.0%\n"
          ]
        }
      ]
    },
    {
      "cell_type": "code",
      "metadata": {
        "id": "vhamLbL65HH_",
        "colab": {
          "base_uri": "https://localhost:8080/"
        },
        "outputId": "794c0c3f-9a66-4e12-dcc7-cd77cd9a9e8c"
      },
      "source": [
        "print(f'Cross val score : {np.mean(cross_val_score(clf_lr, X,y, cv=5, n_jobs=-1)).round(2)}')"
      ],
      "execution_count": null,
      "outputs": [
        {
          "output_type": "stream",
          "name": "stdout",
          "text": [
            "Cross val score : 0.82\n"
          ]
        }
      ]
    },
    {
      "cell_type": "code",
      "metadata": {
        "id": "DX-axpIW5Fzo",
        "colab": {
          "base_uri": "https://localhost:8080/",
          "height": 296
        },
        "outputId": "6087b252-e122-44f6-8819-d9a1bf33980b"
      },
      "source": [
        "#Confision matrix\n",
        "plot_confusion_matrix(clf_lr, X_test, y_test, cmap='Blues', values_format='d')"
      ],
      "execution_count": null,
      "outputs": [
        {
          "output_type": "execute_result",
          "data": {
            "text/plain": [
              "<sklearn.metrics._plot.confusion_matrix.ConfusionMatrixDisplay at 0x7f058afb2550>"
            ]
          },
          "metadata": {},
          "execution_count": 42
        },
        {
          "output_type": "display_data",
          "data": {
            "image/png": "[encoded data removed]",
            "text/plain": [
              "<Figure size 432x288 with 2 Axes>"
            ]
          },
          "metadata": {
            "needs_background": "light"
          }
        }
      ]
    },
    {
      "cell_type": "code",
      "metadata": {
        "id": "nkIXxly05I50",
        "colab": {
          "base_uri": "https://localhost:8080/",
          "height": 279
        },
        "outputId": "80be3c50-4a8d-4696-d3e0-377805558384"
      },
      "source": [
        "#AUC ROC curve\n",
        "plot_roc_curve(clf_lr, X_test, y_test)\n",
        "plt.grid()"
      ],
      "execution_count": null,
      "outputs": [
        {
          "output_type": "display_data",
          "data": {
            "image/png": "[encoded data removed]",
            "text/plain": [
              "<Figure size 432x288 with 1 Axes>"
            ]
          },
          "metadata": {
            "needs_background": "light"
          }
        }
      ]
    },
    {
      "cell_type": "markdown",
      "metadata": {
        "id": "tTXN0jdq5K4K"
      },
      "source": [
        "ตรวจสอบค่า Coefficient of model"
      ]
    },
    {
      "cell_type": "code",
      "metadata": {
        "id": "CUQQX7eq5Mez",
        "colab": {
          "base_uri": "https://localhost:8080/"
        },
        "outputId": "bd8ea55d-b50b-4ef4-f1e6-2e5b4407f428"
      },
      "source": [
        "clf_lr.coef_"
      ],
      "execution_count": null,
      "outputs": [
        {
          "output_type": "execute_result",
          "data": {
            "text/plain": [
              "array([[ 0.00298715,  0.16741829, -0.20308929, -0.00653168, -0.01507408,\n",
              "         0.02897547,  0.06063118, -0.06273958,  0.01095971,  0.03521819,\n",
              "         0.02940259,  0.0430168 , -0.00109325]])"
            ]
          },
          "metadata": {},
          "execution_count": 44
        }
      ]
    },
    {
      "cell_type": "code",
      "metadata": {
        "id": "dhHW9NEj5N7-",
        "colab": {
          "base_uri": "https://localhost:8080/",
          "height": 388
        },
        "outputId": "05711ce2-f0aa-4616-aee7-7b6366a8c05f"
      },
      "source": [
        "plt.figure(figsize=(10,5))\n",
        "plt.bar(X_train.columns, clf_lr.coef_[0])\n",
        "plt.xticks(rotation=90)\n",
        "plt.show()"
      ],
      "execution_count": null,
      "outputs": [
        {
          "output_type": "display_data",
          "data": {
            "image/png": "[encoded data removed]",
            "text/plain": [
              "<Figure size 720x360 with 1 Axes>"
            ]
          },
          "metadata": {
            "needs_background": "light"
          }
        }
      ]
    },
    {
      "cell_type": "markdown",
      "metadata": {
        "id": "55xRmOum5P9B"
      },
      "source": [
        "# Decision Tree\n",
        "\n",
        "Train model Decision Tree"
      ]
    },
    {
      "cell_type": "code",
      "metadata": {
        "id": "DawYGnuT5Vhn"
      },
      "source": [
        "#Create model named 'clf_dt'\n",
        "clf_dt = DecisionTreeClassifier()\n",
        "\n",
        "#Train model\n",
        "clf_dt = clf_dt.fit(X_train, y_train)\n",
        "\n",
        "#Predict named 'dt_y_pred'\n",
        "dt_y_pred = clf_dt.predict(X_test)"
      ],
      "execution_count": null,
      "outputs": []
    },
    {
      "cell_type": "markdown",
      "metadata": {
        "id": "EUNSkYl25XXO"
      },
      "source": [
        "**คำนวณ Cross-validation**"
      ]
    },
    {
      "cell_type": "code",
      "metadata": {
        "id": "c9dHUkbH5Z5T",
        "colab": {
          "base_uri": "https://localhost:8080/"
        },
        "outputId": "08359db5-654c-41fa-b243-fe326289f1a9"
      },
      "source": [
        "#Print Test data accuracy score\n",
        "print(f'Test data accuracy score : {np.round(clf_dt.score(X_test, y_test),2)*100}%')\n",
        "\n",
        "#ใช้ cross_val_score เพื่อคำนวณ Cross-Validation\n",
        "dt_cross_val = cross_val_score(clf_dt, X, y, cv=10, n_jobs=-1)\n",
        "\n",
        "#เรียกดูค่า Cross-Validation ในแต่ละรอบ\n",
        "print('Cross val score')\n",
        "for i in range(len(dt_cross_val)) :\n",
        "    print(f'Fold {i+1} : {dt_cross_val[i]}')\n",
        "\n",
        "#แสดงค่าเฉลี่ย Cross-Validation score\n",
        "print(f'Mean Cross val score : {np.mean(dt_cross_val)}')"
      ],
      "execution_count": null,
      "outputs": [
        {
          "output_type": "stream",
          "name": "stdout",
          "text": [
            "Test data accuracy score : 78.0%\n",
            "Cross val score\n",
            "Fold 1 : 0.7865392547779458\n",
            "Fold 2 : 0.6594940189742885\n",
            "Fold 3 : 0.7450158119070535\n",
            "Fold 4 : 0.7232916265640038\n",
            "Fold 5 : 0.7492094046473258\n",
            "Fold 6 : 0.6352261790182868\n",
            "Fold 7 : 0.7577340849718136\n",
            "Fold 8 : 0.739378523305376\n",
            "Fold 9 : 0.777808332187543\n",
            "Fold 10 : 0.7696961363948852\n",
            "Mean Cross val score : 0.7343393372748521\n"
          ]
        }
      ]
    },
    {
      "cell_type": "code",
      "metadata": {
        "id": "bJ-BMXRA5c59",
        "colab": {
          "base_uri": "https://localhost:8080/",
          "height": 296
        },
        "outputId": "21bce152-88a5-44a0-d174-1b1a62146f33"
      },
      "source": [
        "#Confusion matrix\n",
        "plot_confusion_matrix(clf_dt, X_test,y_test, cmap='Blues', values_format='d')"
      ],
      "execution_count": null,
      "outputs": [
        {
          "output_type": "execute_result",
          "data": {
            "text/plain": [
              "<sklearn.metrics._plot.confusion_matrix.ConfusionMatrixDisplay at 0x7f058adffdd0>"
            ]
          },
          "metadata": {},
          "execution_count": 48
        },
        {
          "output_type": "display_data",
          "data": {
            "image/png": "[encoded data removed]",
            "text/plain": [
              "<Figure size 432x288 with 2 Axes>"
            ]
          },
          "metadata": {
            "needs_background": "light"
          }
        }
      ]
    },
    {
      "cell_type": "code",
      "metadata": {
        "id": "XjF84cP25eUX",
        "colab": {
          "base_uri": "https://localhost:8080/",
          "height": 279
        },
        "outputId": "2f03e0d0-6bb3-4869-8591-1b89abbf7715"
      },
      "source": [
        "#AOC ROC curve\n",
        "plot_roc_curve(clf_dt,X_test,y_test)\n",
        "plt.grid()"
      ],
      "execution_count": null,
      "outputs": [
        {
          "output_type": "display_data",
          "data": {
            "image/png": "[encoded data removed]",
            "text/plain": [
              "<Figure size 432x288 with 1 Axes>"
            ]
          },
          "metadata": {
            "needs_background": "light"
          }
        }
      ]
    },
    {
      "cell_type": "code",
      "metadata": {
        "id": "RZePKTo45gBa",
        "colab": {
          "base_uri": "https://localhost:8080/",
          "height": 388
        },
        "outputId": "8b275869-08ec-4b90-bd9e-6620b1bb1177"
      },
      "source": [
        "plt.figure(figsize=(10,5))\n",
        "plt.bar(X_train.columns, clf_dt.feature_importances_)\n",
        "plt.xticks(rotation=90)\n",
        "plt.show()"
      ],
      "execution_count": null,
      "outputs": [
        {
          "output_type": "display_data",
          "data": {
            "image/png": "[encoded data removed]",
            "text/plain": [
              "<Figure size 720x360 with 1 Axes>"
            ]
          },
          "metadata": {
            "needs_background": "light"
          }
        }
      ]
    },
    {
      "cell_type": "markdown",
      "metadata": {
        "id": "meZ0thrLGz4j"
      },
      "source": [
        "# SVM\n",
        "\n",
        "Train SVM model ด้วย svm.SVC() "
      ]
    },
    {
      "cell_type": "code",
      "metadata": {
        "colab": {
          "base_uri": "https://localhost:8080/"
        },
        "id": "4qZlJjPsG3Ha",
        "outputId": "7249fb76-ddc4-4b2f-f7af-68e99d00f939"
      },
      "source": [
        "#Create model named 'clf_svm'\n",
        "clf_svm = svm.SVC(max_iter=5000, kernel='linear', C=2)\n",
        "\n",
        "#Fit model\n",
        "clf_svm.fit(X_train, y_train)\n",
        "\n",
        "#Predict named 'svm_y_pred'\n",
        "svm_y_pred = clf_svm.predict(X_test)\n",
        "\n",
        "print(f'Test data accuracy score : {np.round(clf_svm.score(X_test, y_test),2)*100}%')"
      ],
      "execution_count": null,
      "outputs": [
        {
          "output_type": "stream",
          "name": "stderr",
          "text": [
            "/usr/local/lib/python3.7/dist-packages/sklearn/svm/_base.py:231: ConvergenceWarning: Solver terminated early (max_iter=5000).  Consider pre-processing your data with StandardScaler or MinMaxScaler.\n",
            "  % self.max_iter, ConvergenceWarning)\n"
          ]
        },
        {
          "output_type": "stream",
          "name": "stdout",
          "text": [
            "Test data accuracy score : 63.0%\n"
          ]
        }
      ]
    },
    {
      "cell_type": "code",
      "metadata": {
        "colab": {
          "base_uri": "https://localhost:8080/"
        },
        "id": "bHEjanWtG4yE",
        "outputId": "babba3ee-318c-4b4a-c95c-086ce82e4e86"
      },
      "source": [
        "#Create model named 'clf_svm'\n",
        "clf_svm = svm.SVC(max_iter=5000, kernel='linear', C=10)\n",
        "\n",
        "#Fit model\n",
        "clf_svm.fit(X_train, y_train)\n",
        "\n",
        "print(f'Test data accuracy score : {np.round(clf_svm.score(X_test, y_test),2)*100}%')"
      ],
      "execution_count": null,
      "outputs": [
        {
          "output_type": "stream",
          "name": "stderr",
          "text": [
            "/usr/local/lib/python3.7/dist-packages/sklearn/svm/_base.py:231: ConvergenceWarning: Solver terminated early (max_iter=5000).  Consider pre-processing your data with StandardScaler or MinMaxScaler.\n",
            "  % self.max_iter, ConvergenceWarning)\n"
          ]
        },
        {
          "output_type": "stream",
          "name": "stdout",
          "text": [
            "Test data accuracy score : 66.0%\n"
          ]
        }
      ]
    },
    {
      "cell_type": "markdown",
      "metadata": {
        "id": "OjE-uHh16fDx"
      },
      "source": [
        "# KNN\n",
        "\n",
        "Train model KNN ด้วย KNeighborsClassifier()"
      ]
    },
    {
      "cell_type": "code",
      "metadata": {
        "id": "aydMVE8i6etg",
        "colab": {
          "base_uri": "https://localhost:8080/"
        },
        "outputId": "e8080236-0fe7-4e49-c6a8-dd2a2843dd34"
      },
      "source": [
        "k = 5\n",
        "\n",
        "#Create model named 'clf_knn'\n",
        "clf_knn = KNeighborsClassifier(n_neighbors=k)\n",
        "\n",
        "#Fit model\n",
        "clf_knn.fit(X_train, y_train)\n",
        "\n",
        "#Predict named 'knn_y_pred'\n",
        "knn_y_pred = clf_knn.predict(X_test)\n",
        "\n",
        "print(f'Test data accuracy score (K = {k}):{np.round(clf_knn.score(X_test, y_test),2 )*100}%')"
      ],
      "execution_count": null,
      "outputs": [
        {
          "output_type": "stream",
          "name": "stdout",
          "text": [
            "Test data accuracy score (K = 5):83.0%\n"
          ]
        }
      ]
    },
    {
      "cell_type": "markdown",
      "metadata": {
        "id": "CzsirVx3G7PT"
      },
      "source": [
        "คำนวณ Cross validation score"
      ]
    },
    {
      "cell_type": "code",
      "metadata": {
        "colab": {
          "base_uri": "https://localhost:8080/"
        },
        "id": "jrXnisldG8sb",
        "outputId": "e97e0283-57fc-4931-a85f-fcc6b4c37c34"
      },
      "source": [
        "#ใช้ cross_val_score เพื่อคำนวณ Cross-validation\n",
        "knn_cv = cross_val_score(clf_knn, X,y,cv=10)\n",
        "\n",
        "#แสดงค่า Cross-validation ในแต่ละรอบ\n",
        "for i in range(len(knn_cv)) :\n",
        "    print('Fold %s : %s' %(i, knn_cv[i]))\n",
        "\n",
        "#แสดงค่าเฉลี่ยของ Cross-validation\n",
        "print(\"Mean cross val score : \",np.mean(knn_cv))"
      ],
      "execution_count": null,
      "outputs": [
        {
          "output_type": "stream",
          "name": "stdout",
          "text": [
            "Fold 0 : 0.8238691049085659\n",
            "Fold 1 : 0.756152894266465\n",
            "Fold 2 : 0.8131445070809845\n",
            "Fold 3 : 0.785233053760484\n",
            "Fold 4 : 0.8015949401897429\n",
            "Fold 5 : 0.7910765846280764\n",
            "Fold 6 : 0.7906641000962464\n",
            "Fold 7 : 0.7892204042348412\n",
            "Fold 8 : 0.8046885741784683\n",
            "Fold 9 : 0.8230441358449058\n",
            "Mean cross val score :  0.797868829918878\n"
          ]
        }
      ]
    },
    {
      "cell_type": "code",
      "metadata": {
        "colab": {
          "base_uri": "https://localhost:8080/",
          "height": 296
        },
        "id": "rDI-UMw_G-pH",
        "outputId": "d80c69d3-34f2-487b-feb5-be7757deb0c7"
      },
      "source": [
        "#วาด Confusion matrix\n",
        "plot_confusion_matrix(clf_knn, X_test,y_test, cmap='Blues', values_format='d')"
      ],
      "execution_count": null,
      "outputs": [
        {
          "output_type": "execute_result",
          "data": {
            "text/plain": [
              "<sklearn.metrics._plot.confusion_matrix.ConfusionMatrixDisplay at 0x7f0589023bd0>"
            ]
          },
          "metadata": {},
          "execution_count": 55
        },
        {
          "output_type": "display_data",
          "data": {
            "image/png": "[encoded data removed]",
            "text/plain": [
              "<Figure size 432x288 with 2 Axes>"
            ]
          },
          "metadata": {
            "needs_background": "light"
          }
        }
      ]
    },
    {
      "cell_type": "code",
      "metadata": {
        "colab": {
          "base_uri": "https://localhost:8080/",
          "height": 279
        },
        "id": "hOlAhrMFHALD",
        "outputId": "60a9e5f2-6cfd-451b-e9a1-a16194d26086"
      },
      "source": [
        "#AUC ROC curve\n",
        "plot_roc_curve(clf_knn, X_test, y_test)\n",
        "plt.grid()"
      ],
      "execution_count": null,
      "outputs": [
        {
          "output_type": "display_data",
          "data": {
            "image/png": "[encoded data removed]",
            "text/plain": [
              "<Figure size 432x288 with 1 Axes>"
            ]
          },
          "metadata": {
            "needs_background": "light"
          }
        }
      ]
    },
    {
      "cell_type": "markdown",
      "metadata": {
        "id": "gNYZvJIdHCKq"
      },
      "source": [
        "# Random Forest\n",
        "\n",
        "Train model ด้วย RandomForestClassifier()"
      ]
    },
    {
      "cell_type": "code",
      "metadata": {
        "id": "pqJdu-iXHFVe"
      },
      "source": [
        "#random forest(iii)\n",
        "clf_rf=RandomForestClassifier()\n",
        "\n",
        "#Fit model\n",
        "clf_rf.fit(X_train,y_train)\n",
        "\n",
        "#Predict named 'rf_y_pred'\n",
        "rf_y_pred = clf_rf.predict(X_test)"
      ],
      "execution_count": null,
      "outputs": []
    },
    {
      "cell_type": "markdown",
      "metadata": {
        "id": "Y5fexfzqHHT_"
      },
      "source": [
        "คำนวณ Cross validation score"
      ]
    },
    {
      "cell_type": "code",
      "metadata": {
        "colab": {
          "base_uri": "https://localhost:8080/"
        },
        "id": "M8UJQ2xRHI6l",
        "outputId": "6c36d679-0cf7-45ec-a56a-5c928b0598cc"
      },
      "source": [
        "#Print Test data accuracy score\n",
        "print(f'Test data accuracy score : {np.round(clf_rf.score(X_test, y_test),2)*100}%')\n",
        "\n",
        "#ใช้ cross_val_score เพื่อคำนวณ Cross-Validation\n",
        "rf_cross_val = cross_val_score(clf_rf, X, y, cv=10, n_jobs=-1)\n",
        "\n",
        "#เรียกดูค่า Cross-Validation ในแต่ละรอบ\n",
        "print('Cross val score')\n",
        "for i in range(len(rf_cross_val)) :\n",
        "    print(f'Fold {i+1} : {rf_cross_val[i]}')\n",
        "\n",
        "#แสดงค่าเฉลี่ย Cross-Validation score\n",
        "print(f'Mean Cross val score : {np.mean(rf_cross_val)}')"
      ],
      "execution_count": null,
      "outputs": [
        {
          "output_type": "stream",
          "name": "stdout",
          "text": [
            "Test data accuracy score : 85.0%\n",
            "Cross val score\n",
            "Fold 1 : 0.8429808882166919\n",
            "Fold 2 : 0.799876254640451\n",
            "Fold 3 : 0.8318438058572803\n",
            "Fold 4 : 0.8079197030111371\n",
            "Fold 5 : 0.8304688574178468\n",
            "Fold 6 : 0.8308813419496769\n",
            "Fold 7 : 0.8159631513818232\n",
            "Fold 8 : 0.8375498418809295\n",
            "Fold 9 : 0.8158944039598515\n",
            "Fold 10 : 0.8351436821119208\n",
            "Mean Cross val score : 0.8248521930427609\n"
          ]
        }
      ]
    },
    {
      "cell_type": "code",
      "metadata": {
        "colab": {
          "base_uri": "https://localhost:8080/",
          "height": 296
        },
        "id": "8PvGokUJHKlD",
        "outputId": "5f2a99eb-8c23-4ddc-ec99-e34161ab9fd8"
      },
      "source": [
        "#วาด Confusion matrix\n",
        "plot_confusion_matrix(clf_rf, X_test,y_test, cmap='Blues', values_format='d')"
      ],
      "execution_count": null,
      "outputs": [
        {
          "output_type": "execute_result",
          "data": {
            "text/plain": [
              "<sklearn.metrics._plot.confusion_matrix.ConfusionMatrixDisplay at 0x7f05892db650>"
            ]
          },
          "metadata": {},
          "execution_count": 59
        },
        {
          "output_type": "display_data",
          "data": {
            "image/png": "[encoded data removed]",
            "text/plain": [
              "<Figure size 432x288 with 2 Axes>"
            ]
          },
          "metadata": {
            "needs_background": "light"
          }
        }
      ]
    },
    {
      "cell_type": "code",
      "metadata": {
        "colab": {
          "base_uri": "https://localhost:8080/",
          "height": 279
        },
        "id": "8XKD74NwHMKk",
        "outputId": "625a0174-44cc-40a9-d61d-c7a411e2c73d"
      },
      "source": [
        "#AUC ROC curve\n",
        "plot_roc_curve(clf_rf, X_test, y_test)\n",
        "plt.grid()"
      ],
      "execution_count": null,
      "outputs": [
        {
          "output_type": "display_data",
          "data": {
            "image/png": "[encoded data removed]",
            "text/plain": [
              "<Figure size 432x288 with 1 Axes>"
            ]
          },
          "metadata": {
            "needs_background": "light"
          }
        }
      ]
    },
    {
      "cell_type": "markdown",
      "metadata": {
        "id": "Qb2xjNV4HQPX"
      },
      "source": [
        "Classification Model ที่ให้ผลลัพธ์ดีที่สุดคือ Random Forest"
      ]
    },
    {
      "cell_type": "markdown",
      "metadata": {
        "id": "bujW3Lg254Rc"
      },
      "source": [
        "# Ensemble\n",
        "\n",
        "ทำ Majority Vote เพื่อเลือกผลลัพธ์ที่ Model ทำนายออกมาเหมือนกันมากที่สุด"
      ]
    },
    {
      "cell_type": "code",
      "metadata": {
        "id": "kOvDd39j58rM"
      },
      "source": [
        "#สร้าง Data frame ของค่า predict แต่ละ model\n",
        "voting_df = pd.DataFrame({'lr' : lr_y_pred, 'dt1' : dt_y_pred,\n",
        "                                        'rf' : rf_y_pred, 'svm' : svm_y_pred,\n",
        "                                        'knn' : knn_y_pred})"
      ],
      "execution_count": null,
      "outputs": []
    },
    {
      "cell_type": "code",
      "metadata": {
        "id": "Oaq5TAb35_Al",
        "colab": {
          "base_uri": "https://localhost:8080/",
          "height": 419
        },
        "outputId": "6f0bb6f0-621e-4555-f0ed-3231d90d6476"
      },
      "source": [
        "voting_df"
      ],
      "execution_count": null,
      "outputs": [
        {
          "output_type": "execute_result",
          "data": {
            "text/html": [
              "<div>\n",
              "<style scoped>\n",
              "    .dataframe tbody tr th:only-of-type {\n",
              "        vertical-align: middle;\n",
              "    }\n",
              "\n",
              "    .dataframe tbody tr th {\n",
              "        vertical-align: top;\n",
              "    }\n",
              "\n",
              "    .dataframe thead th {\n",
              "        text-align: right;\n",
              "    }\n",
              "</style>\n",
              "<table border=\"1\" class=\"dataframe\">\n",
              "  <thead>\n",
              "    <tr style=\"text-align: right;\">\n",
              "      <th></th>\n",
              "      <th>lr</th>\n",
              "      <th>dt1</th>\n",
              "      <th>rf</th>\n",
              "      <th>svm</th>\n",
              "      <th>knn</th>\n",
              "    </tr>\n",
              "  </thead>\n",
              "  <tbody>\n",
              "    <tr>\n",
              "      <th>0</th>\n",
              "      <td>1</td>\n",
              "      <td>1</td>\n",
              "      <td>1</td>\n",
              "      <td>1</td>\n",
              "      <td>1</td>\n",
              "    </tr>\n",
              "    <tr>\n",
              "      <th>1</th>\n",
              "      <td>0</td>\n",
              "      <td>1</td>\n",
              "      <td>1</td>\n",
              "      <td>1</td>\n",
              "      <td>1</td>\n",
              "    </tr>\n",
              "    <tr>\n",
              "      <th>2</th>\n",
              "      <td>0</td>\n",
              "      <td>0</td>\n",
              "      <td>0</td>\n",
              "      <td>0</td>\n",
              "      <td>0</td>\n",
              "    </tr>\n",
              "    <tr>\n",
              "      <th>3</th>\n",
              "      <td>0</td>\n",
              "      <td>1</td>\n",
              "      <td>0</td>\n",
              "      <td>0</td>\n",
              "      <td>0</td>\n",
              "    </tr>\n",
              "    <tr>\n",
              "      <th>4</th>\n",
              "      <td>1</td>\n",
              "      <td>1</td>\n",
              "      <td>0</td>\n",
              "      <td>1</td>\n",
              "      <td>0</td>\n",
              "    </tr>\n",
              "    <tr>\n",
              "      <th>...</th>\n",
              "      <td>...</td>\n",
              "      <td>...</td>\n",
              "      <td>...</td>\n",
              "      <td>...</td>\n",
              "      <td>...</td>\n",
              "    </tr>\n",
              "    <tr>\n",
              "      <th>43633</th>\n",
              "      <td>0</td>\n",
              "      <td>0</td>\n",
              "      <td>0</td>\n",
              "      <td>1</td>\n",
              "      <td>0</td>\n",
              "    </tr>\n",
              "    <tr>\n",
              "      <th>43634</th>\n",
              "      <td>0</td>\n",
              "      <td>0</td>\n",
              "      <td>0</td>\n",
              "      <td>0</td>\n",
              "      <td>0</td>\n",
              "    </tr>\n",
              "    <tr>\n",
              "      <th>43635</th>\n",
              "      <td>0</td>\n",
              "      <td>0</td>\n",
              "      <td>0</td>\n",
              "      <td>0</td>\n",
              "      <td>0</td>\n",
              "    </tr>\n",
              "    <tr>\n",
              "      <th>43636</th>\n",
              "      <td>1</td>\n",
              "      <td>0</td>\n",
              "      <td>1</td>\n",
              "      <td>1</td>\n",
              "      <td>1</td>\n",
              "    </tr>\n",
              "    <tr>\n",
              "      <th>43637</th>\n",
              "      <td>0</td>\n",
              "      <td>0</td>\n",
              "      <td>0</td>\n",
              "      <td>1</td>\n",
              "      <td>0</td>\n",
              "    </tr>\n",
              "  </tbody>\n",
              "</table>\n",
              "<p>43638 rows × 5 columns</p>\n",
              "</div>"
            ],
            "text/plain": [
              "       lr  dt1  rf  svm  knn\n",
              "0       1    1   1    1    1\n",
              "1       0    1   1    1    1\n",
              "2       0    0   0    0    0\n",
              "3       0    1   0    0    0\n",
              "4       1    1   0    1    0\n",
              "...    ..  ...  ..  ...  ...\n",
              "43633   0    0   0    1    0\n",
              "43634   0    0   0    0    0\n",
              "43635   0    0   0    0    0\n",
              "43636   1    0   1    1    1\n",
              "43637   0    0   0    1    0\n",
              "\n",
              "[43638 rows x 5 columns]"
            ]
          },
          "metadata": {},
          "execution_count": 62
        }
      ]
    },
    {
      "cell_type": "markdown",
      "metadata": {
        "id": "4CMyxiNC6Fc6"
      },
      "source": [
        "หาผลรวมการทำนายของทุก model"
      ]
    },
    {
      "cell_type": "code",
      "metadata": {
        "id": "aaTIgfJt6AT0"
      },
      "source": [
        "voting_df = voting_df.sum(axis=1)"
      ],
      "execution_count": null,
      "outputs": []
    },
    {
      "cell_type": "code",
      "metadata": {
        "id": "Ljqi7WmM6CQN",
        "colab": {
          "base_uri": "https://localhost:8080/"
        },
        "outputId": "73ba866a-a32b-4108-f74d-7774589ed623"
      },
      "source": [
        "voting_df"
      ],
      "execution_count": null,
      "outputs": [
        {
          "output_type": "execute_result",
          "data": {
            "text/plain": [
              "0        5\n",
              "1        4\n",
              "2        0\n",
              "3        1\n",
              "4        3\n",
              "        ..\n",
              "43633    1\n",
              "43634    0\n",
              "43635    0\n",
              "43636    4\n",
              "43637    1\n",
              "Length: 43638, dtype: int64"
            ]
          },
          "metadata": {},
          "execution_count": 64
        }
      ]
    },
    {
      "cell_type": "markdown",
      "metadata": {
        "id": "yPCzBjUw6Imw"
      },
      "source": [
        "สร้างผลลัพธ์โดยกำหนดว่าถ้าผลรวมการทำนาย >=3 ให้ทำนายเป็น 1 ถ้าไม่ใช่ = 0"
      ]
    },
    {
      "cell_type": "code",
      "metadata": {
        "id": "if2Y9hfK6Lav"
      },
      "source": [
        "result = voting_df.apply(lambda x : 1 if x>=3 else 0)"
      ],
      "execution_count": null,
      "outputs": []
    },
    {
      "cell_type": "code",
      "metadata": {
        "id": "YtNTKnfD6MIo",
        "colab": {
          "base_uri": "https://localhost:8080/"
        },
        "outputId": "4d71a27f-fea4-4047-88fb-f497aba72286"
      },
      "source": [
        "print('Result : ',result)\n",
        "print('\\nAccuracy score : ',accuracy_score(y_test,result))"
      ],
      "execution_count": null,
      "outputs": [
        {
          "output_type": "stream",
          "name": "stdout",
          "text": [
            "Result :  0        1\n",
            "1        1\n",
            "2        0\n",
            "3        0\n",
            "4        1\n",
            "        ..\n",
            "43633    0\n",
            "43634    0\n",
            "43635    0\n",
            "43636    1\n",
            "43637    0\n",
            "Length: 43638, dtype: int64\n",
            "\n",
            "Accuracy score :  0.8441954260048582\n"
          ]
        }
      ]
    },
    {
      "cell_type": "markdown",
      "metadata": {
        "id": "IqrkEoij6PwO"
      },
      "source": [
        "กราฟแสดงผลการทำนาย"
      ]
    },
    {
      "cell_type": "code",
      "metadata": {
        "id": "oLGskHtS6N4D",
        "colab": {
          "base_uri": "https://localhost:8080/",
          "height": 295
        },
        "outputId": "b3517728-ca3b-402c-da22-fb74ea54f198"
      },
      "source": [
        "#Plot result\n",
        "plt.title(\"Result of Prediction\")\n",
        "result.value_counts().plot(kind='bar')"
      ],
      "execution_count": null,
      "outputs": [
        {
          "output_type": "execute_result",
          "data": {
            "text/plain": [
              "<matplotlib.axes._subplots.AxesSubplot at 0x7f058ae7cd10>"
            ]
          },
          "metadata": {},
          "execution_count": 67
        },
        {
          "output_type": "display_data",
          "data": {
            "image/png": "[encoded data removed]",
            "text/plain": [
              "<Figure size 432x288 with 1 Axes>"
            ]
          },
          "metadata": {
            "needs_background": "light"
          }
        }
      ]
    }
  ]
}